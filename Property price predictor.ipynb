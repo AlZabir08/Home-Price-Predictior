{
 "cells": [
  {
   "cell_type": "code",
   "execution_count": 1,
   "id": "e0486b90",
   "metadata": {},
   "outputs": [],
   "source": [
    "import pandas as pd\n",
    "import numpy as np\n",
    "from matplotlib import pyplot as plt\n",
    "%matplotlib inline\n",
    "import matplotlib\n",
    "matplotlib.rcParams[\"figure.figsize\"] = (20,10)"
   ]
  },
  {
   "cell_type": "code",
   "execution_count": 2,
   "id": "1914bb34",
   "metadata": {},
   "outputs": [
    {
     "data": {
      "text/html": [
       "<div>\n",
       "<style scoped>\n",
       "    .dataframe tbody tr th:only-of-type {\n",
       "        vertical-align: middle;\n",
       "    }\n",
       "\n",
       "    .dataframe tbody tr th {\n",
       "        vertical-align: top;\n",
       "    }\n",
       "\n",
       "    .dataframe thead th {\n",
       "        text-align: right;\n",
       "    }\n",
       "</style>\n",
       "<table border=\"1\" class=\"dataframe\">\n",
       "  <thead>\n",
       "    <tr style=\"text-align: right;\">\n",
       "      <th></th>\n",
       "      <th>Unnamed: 0</th>\n",
       "      <th>Location</th>\n",
       "      <th>Price</th>\n",
       "      <th>Type</th>\n",
       "      <th>No. Beds</th>\n",
       "      <th>No. Baths</th>\n",
       "      <th>Area</th>\n",
       "      <th>Latitude</th>\n",
       "      <th>Longitude</th>\n",
       "      <th>Region</th>\n",
       "      <th>Sub-region</th>\n",
       "    </tr>\n",
       "  </thead>\n",
       "  <tbody>\n",
       "    <tr>\n",
       "      <th>0</th>\n",
       "      <td>0.0</td>\n",
       "      <td>Sector 10, Uttara, Dhaka</td>\n",
       "      <td>7500000</td>\n",
       "      <td>Apartment</td>\n",
       "      <td>3.0</td>\n",
       "      <td>3.0</td>\n",
       "      <td>1300.0</td>\n",
       "      <td>23.86846</td>\n",
       "      <td>90.39280</td>\n",
       "      <td>Uttara</td>\n",
       "      <td>Sector 10</td>\n",
       "    </tr>\n",
       "    <tr>\n",
       "      <th>1</th>\n",
       "      <td>1.0</td>\n",
       "      <td>Section 11, Mirpur, Dhaka</td>\n",
       "      <td>7280000</td>\n",
       "      <td>Apartment</td>\n",
       "      <td>4.0</td>\n",
       "      <td>4.0</td>\n",
       "      <td>1456.0</td>\n",
       "      <td>23.81223</td>\n",
       "      <td>90.35967</td>\n",
       "      <td>Mirpur</td>\n",
       "      <td>Section 11</td>\n",
       "    </tr>\n",
       "    <tr>\n",
       "      <th>2</th>\n",
       "      <td>2.0</td>\n",
       "      <td>Chowdhuripara, Khilgaon, Dhaka</td>\n",
       "      <td>13000000</td>\n",
       "      <td>Apartment</td>\n",
       "      <td>3.0</td>\n",
       "      <td>3.0</td>\n",
       "      <td>1550.0</td>\n",
       "      <td>23.75349</td>\n",
       "      <td>90.42469</td>\n",
       "      <td>Khilgaon</td>\n",
       "      <td>Chowdhuripara</td>\n",
       "    </tr>\n",
       "    <tr>\n",
       "      <th>3</th>\n",
       "      <td>3.0</td>\n",
       "      <td>Road No 4, Banani, Dhaka</td>\n",
       "      <td>37000000</td>\n",
       "      <td>Apartment</td>\n",
       "      <td>3.0</td>\n",
       "      <td>3.0</td>\n",
       "      <td>2669.0</td>\n",
       "      <td>23.78855</td>\n",
       "      <td>90.40081</td>\n",
       "      <td>Banani</td>\n",
       "      <td>Road No 4</td>\n",
       "    </tr>\n",
       "    <tr>\n",
       "      <th>4</th>\n",
       "      <td>4.0</td>\n",
       "      <td>South Banasree Project, Banasree, Dhaka</td>\n",
       "      <td>3600000</td>\n",
       "      <td>Apartment</td>\n",
       "      <td>2.0</td>\n",
       "      <td>2.0</td>\n",
       "      <td>835.0</td>\n",
       "      <td>23.76354</td>\n",
       "      <td>90.43180</td>\n",
       "      <td>Banasree</td>\n",
       "      <td>South Banasree Project</td>\n",
       "    </tr>\n",
       "  </tbody>\n",
       "</table>\n",
       "</div>"
      ],
      "text/plain": [
       "   Unnamed: 0                                 Location     Price       Type   \n",
       "0         0.0                 Sector 10, Uttara, Dhaka   7500000  Apartment  \\\n",
       "1         1.0                Section 11, Mirpur, Dhaka   7280000  Apartment   \n",
       "2         2.0           Chowdhuripara, Khilgaon, Dhaka  13000000  Apartment   \n",
       "3         3.0                 Road No 4, Banani, Dhaka  37000000  Apartment   \n",
       "4         4.0  South Banasree Project, Banasree, Dhaka   3600000  Apartment   \n",
       "\n",
       "   No. Beds  No. Baths    Area  Latitude  Longitude    Region   \n",
       "0       3.0        3.0  1300.0  23.86846   90.39280    Uttara  \\\n",
       "1       4.0        4.0  1456.0  23.81223   90.35967    Mirpur   \n",
       "2       3.0        3.0  1550.0  23.75349   90.42469  Khilgaon   \n",
       "3       3.0        3.0  2669.0  23.78855   90.40081    Banani   \n",
       "4       2.0        2.0   835.0  23.76354   90.43180  Banasree   \n",
       "\n",
       "               Sub-region  \n",
       "0               Sector 10  \n",
       "1              Section 11  \n",
       "2           Chowdhuripara  \n",
       "3               Road No 4  \n",
       "4  South Banasree Project  "
      ]
     },
     "execution_count": 2,
     "metadata": {},
     "output_type": "execute_result"
    }
   ],
   "source": [
    "df1 = pd.read_csv(\"bproperty_data.csv\")\n",
    "df1.head()"
   ]
  },
  {
   "cell_type": "code",
   "execution_count": 3,
   "id": "c1a9a4c5",
   "metadata": {},
   "outputs": [
    {
     "data": {
      "text/plain": [
       "(4704, 11)"
      ]
     },
     "execution_count": 3,
     "metadata": {},
     "output_type": "execute_result"
    }
   ],
   "source": [
    "df1.shape"
   ]
  },
  {
   "cell_type": "code",
   "execution_count": 4,
   "id": "819182d1",
   "metadata": {},
   "outputs": [
    {
     "data": {
      "text/plain": [
       "Index(['Unnamed: 0', 'Location', 'Price', 'Type', 'No. Beds', 'No. Baths',\n",
       "       'Area', 'Latitude', 'Longitude', 'Region', 'Sub-region'],\n",
       "      dtype='object')"
      ]
     },
     "execution_count": 4,
     "metadata": {},
     "output_type": "execute_result"
    }
   ],
   "source": [
    "df1.columns"
   ]
  },
  {
   "cell_type": "code",
   "execution_count": 5,
   "id": "53f307b3",
   "metadata": {},
   "outputs": [
    {
     "data": {
      "text/plain": [
       "array(['Sector 10, Uttara, Dhaka', 'Section 11, Mirpur, Dhaka',\n",
       "       'Chowdhuripara, Khilgaon, Dhaka', 'Road No 4, Banani, Dhaka',\n",
       "       'South Banasree Project, Banasree, Dhaka',\n",
       "       'Shantinagar Bazar Rd, Shantinagar, Dhaka',\n",
       "       'West Rampura, Rampura, Dhaka', 'Farmgate, Tejgaon, Dhaka',\n",
       "       'New Eskaton Road, Eskaton, Dhaka', 'Paikpara, Mirpur, Dhaka',\n",
       "       'Sector 9, Uttara, Dhaka', 'Pirerbag, Mirpur, Dhaka',\n",
       "       'Sector 11, Uttara, Dhaka', 'East Rampura, Rampura, Dhaka',\n",
       "       'East Maniknagar, Maniknagar, Dhaka', 'Middle Badda, Badda, Dhaka',\n",
       "       'Sector 12, Uttara, Dhaka', 'Ashkona, Dakshin Khan, Dhaka',\n",
       "       'Block G, Bashundhara R-A, Dhaka', 'Road No 2, Shyamoli, Dhaka',\n",
       "       'Goran, Khilgaon, Dhaka', 'Majed Sardar Road, Bangshal, Dhaka',\n",
       "       'Green Road, Kathalbagan, Dhaka', 'Hemayetpur, Savar, Dhaka',\n",
       "       'Manda, Mugdapara, Dhaka', 'Mastertek, Cantonment, Dhaka',\n",
       "       'Sector 4, Uttara, Dhaka', 'Jurain, Shyampur, Dhaka',\n",
       "       'Sector 18, Uttara, Dhaka', 'Block J, Baridhara, Dhaka',\n",
       "       'Shyamoli Housing (2nd Project), Adabor, Dhaka',\n",
       "       'Sonatongor Masjid Road, Hazaribag, Dhaka',\n",
       "       'Khilbari Tek, Badda, Dhaka', 'Darussalam, Mirpur, Dhaka',\n",
       "       'Nobodoy Housing Society, Mohammadpur, Dhaka',\n",
       "       'West Shewrapara, Mirpur, Dhaka', 'Bank Colony, Savar, Dhaka',\n",
       "       'Mahuthtuli, Bangshal, Dhaka', 'South Monipur, Mirpur, Dhaka',\n",
       "       'Nurer Chala, Badda, Dhaka', 'West Agargaon, Agargaon, Dhaka',\n",
       "       'Tejkunipara, Tejgaon, Dhaka', 'Kallyanpur, Mirpur, Dhaka',\n",
       "       'Sector 9, Purbachal, Dhaka', 'Sector 8, Purbachal, Dhaka',\n",
       "       'Purbachal, Dhaka', 'Sector 7, Purbachal, Dhaka',\n",
       "       'Sector 5, Purbachal, Dhaka', 'Sector 3, Purbachal, Dhaka',\n",
       "       'West Kazipara, Mirpur, Dhaka', 'Mirpur DOHS, Mirpur, Dhaka',\n",
       "       'Jigatola, Hazaribag, Dhaka', 'Dutabash Road, Baridhara, Dhaka',\n",
       "       'Kutum Goli, Agargaon, Dhaka',\n",
       "       'Free School Street, Kathalbagan, Dhaka',\n",
       "       'West Malibag, Malibagh, Dhaka', 'Block F, Bashundhara R-A, Dhaka',\n",
       "       'Road No 7A, Dhanmondi, Dhaka', 'West Dhanmondi, Dhanmondi, Dhaka',\n",
       "       'Meradia, Khilgaon, Dhaka', 'Block H, Bashundhara R-A, Dhaka',\n",
       "       'Sector 7, Uttara, Dhaka', 'East Shewrapara, Mirpur, Dhaka',\n",
       "       'Crescent Road, Kathalbagan, Dhaka', 'New Eskaton, Eskaton, Dhaka',\n",
       "       'PC Culture Housing, Mohammadpur, Dhaka',\n",
       "       'North Adabor, Adabor, Dhaka', 'Ranavola Road, Turag, Dhaka',\n",
       "       'Road No 12, Dhanmondi, Dhaka', 'Gandaria, Sutrapur, Dhaka',\n",
       "       'Gulbag, Malibagh, Dhaka', 'Gulshan 1, Gulshan, Dhaka',\n",
       "       'Shiddeswari Road, Shiddheswari, Dhaka',\n",
       "       'Poribagh Road Number 2, Paribagh, Dhaka',\n",
       "       'Shiddheswari Lane, Shiddheswari, Dhaka',\n",
       "       'Boro Maghbazar, Maghbazar, Dhaka', 'Sector 3, Uttara, Dhaka',\n",
       "       'Block B, Bashundhara R-A, Dhaka', 'Moneshwar, Hazaribag, Dhaka',\n",
       "       'Section 12, Mirpur, Dhaka', 'Block A, Bashundhara R-A, Dhaka',\n",
       "       'Doniya, Shyampur, Dhaka', 'Block J, Bashundhara R-A, Dhaka',\n",
       "       'Road No 9A, Dhanmondi, Dhaka',\n",
       "       'Sir Sayed Road, Mohammadpur, Dhaka',\n",
       "       'Karwan Bazar, Tejgaon, Dhaka', 'Section 1, Mirpur, Dhaka',\n",
       "       'Road No 8A, Dhanmondi, Dhaka', 'Road No 5, Banani, Dhaka',\n",
       "       'Block VIP 3, Dumni, Dhaka', 'Aainusbag, Dakshin Khan, Dhaka',\n",
       "       'North Jatra Bari, Jatra Bari, Dhaka',\n",
       "       'Indira Road, Tejgaon, Dhaka', 'Moushair, Dakshin Khan, Dhaka',\n",
       "       'Mohammadi Housing LTD., Mohammadpur, Dhaka',\n",
       "       'Taltola, Dakshin Khan, Dhaka', 'Section 2, Mirpur, Dhaka',\n",
       "       'East Kazipara, Mirpur, Dhaka', 'Shahid Nagar, Lalbagh, Dhaka',\n",
       "       'Pallabi, Mirpur, Dhaka', 'Section 6, Mirpur, Dhaka',\n",
       "       'Bhatuliya, Turag, Dhaka', 'Block E, Bashundhara R-A, Dhaka',\n",
       "       'Block B, Banasree, Dhaka', 'Bawnia, Turag, Dhaka',\n",
       "       'Malibag College Road, Malibagh, Dhaka',\n",
       "       'Rayer Bazaar, Hazaribag, Dhaka', 'Road No 4A, Dhanmondi, Dhaka',\n",
       "       'South Badda, Badda, Dhaka', 'Bochila, Mohammadpur, Dhaka',\n",
       "       'Nurjahan Road, Mohammadpur, Dhaka', 'Block A, Banasree, Dhaka',\n",
       "       'Block C, Khilgaon, Dhaka',\n",
       "       'West Dhanmondi and Shangkar, Dhanmondi, Dhaka',\n",
       "       'North Azampur, Dakshin Khan, Dhaka', 'Jagannathpur, Badda, Dhaka',\n",
       "       'Kamarpara, Turag, Dhaka', 'Luxmibazar, Sutrapur, Dhaka',\n",
       "       'Babar Road, Mohammadpur, Dhaka',\n",
       "       'Tali office Road, Hazaribag, Dhaka',\n",
       "       'Block C, Aftab Nagar, Dhaka',\n",
       "       'Chairman Para, Dakshin Khan, Dhaka',\n",
       "       'Sector 13, Purbachal, Dhaka', 'Uttar Badda, Badda, Dhaka',\n",
       "       'Road No 10B, Banani, Dhaka', 'Sector 27, Purbachal, Dhaka',\n",
       "       'Block E, Lalmatia, Dhaka', 'Road No 6, Niketan, Dhaka',\n",
       "       'Dhaka Housing Main Road, Shyamoli, Dhaka',\n",
       "       'Shonir Akhra, Shyampur, Dhaka', 'Road No 1, Banani, Dhaka',\n",
       "       'Road No 1, Dhanmondi, Dhaka', 'Dhaka Uddan, Mohammadpur, Dhaka',\n",
       "       'Section 10, Mirpur, Dhaka', 'Nawabgonj, Lalbagh, Dhaka',\n",
       "       'South Jatra Bari, Jatra Bari, Dhaka',\n",
       "       'Chamilibag, Shantinagar, Dhaka',\n",
       "       'Shaheed Tajuddin Ahmed Ave, Maghbazar, Dhaka',\n",
       "       'Naya Paltan, Motijheel, Dhaka', 'Dhour Mouza, Turag, Dhaka',\n",
       "       'East Bashabo, Bashabo, Dhaka', '3rd Colony, Mirpur, Dhaka',\n",
       "       'Lake City Concord, Khilkhet, Dhaka', 'Road No 28, Banani, Dhaka',\n",
       "       'Block M, Bashundhara R-A, Dhaka',\n",
       "       'Block I, Bashundhara R-A, Dhaka', 'Sector 5, Uttara, Dhaka',\n",
       "       'Block N, Bashundhara R-A, Dhaka',\n",
       "       'East Nakhalpara, Tejgaon, Dhaka', 'Zinzira, Savar, Dhaka',\n",
       "       'Ashulia, Savar, Dhaka', 'Bashabo, Dhaka',\n",
       "       'Bakshi Bazar, Lalbagh, Dhaka', 'Konapara, Demra, Dhaka',\n",
       "       'Sector 16, Purbachal, Dhaka', 'Road No 5, Dhanmondi, Dhaka',\n",
       "       'Block G, Banasree, Dhaka', 'Manikdi, Cantonment, Dhaka',\n",
       "       'Block E, Banasree, Dhaka', 'Asad Avenue, Mohammadpur, Dhaka',\n",
       "       'Nayatola, Maghbazar, Dhaka', 'Manda Road, Mugdapara, Dhaka',\n",
       "       'Bhagalpur, Hazaribag, Dhaka', 'Block C, Bashundhara R-A, Dhaka',\n",
       "       'Hossain Saheb Goli, Zafrabad, Dhaka',\n",
       "       'Mirbag Notun Rasta, Maghbazar, Dhaka', 'Donia, Jatra Bari, Dhaka',\n",
       "       'Mohammadi Homes R/A, Mohammadpur, Dhaka',\n",
       "       'Mansurabad Housing Society, Adabor, Dhaka',\n",
       "       'Sector 23, Purbachal, Dhaka', 'Sector 29, Purbachal, Dhaka',\n",
       "       'Sector 26, Purbachal, Dhaka', 'Bibir Bagicha, Jatra Bari, Dhaka',\n",
       "       'Sector 25, Purbachal, Dhaka', 'Road No 2, Baridhara DOHS, Dhaka',\n",
       "       'East Monipur, Mirpur, Dhaka', 'Srjani road, Ibrahimpur, Dhaka',\n",
       "       'Rupnagar R/A, Mirpur, Dhaka', 'West Monipur, Mirpur, Dhaka',\n",
       "       'Mohonpur Road, Shyamoli, Dhaka', 'Block F, Aftab Nagar, Dhaka',\n",
       "       'Road No 12, Baridhara, Dhaka', 'Lane No 5, Mohakhali DOHS, Dhaka',\n",
       "       'School Road, Mohakhali, Dhaka', 'Bosila, Mohammadpur, Dhaka',\n",
       "       'New Airport Road, Banani, Dhaka',\n",
       "       'Sher-E-Bangla Road, Hazaribag, Dhaka',\n",
       "       'Block D, Bashundhara R-A, Dhaka', 'Sector 6, Uttara, Dhaka',\n",
       "       'Section 15, Mirpur, Dhaka', 'Katashur, Mohammadpur, Dhaka',\n",
       "       'Peer Saheber Goli, Shantinagar, Dhaka',\n",
       "       'Block H, Banasree, Dhaka', 'Sector 16, Uttara, Dhaka',\n",
       "       'Bot Tola, Khilkhet, Dhaka', 'Kanchkura, Uttar Khan, Dhaka',\n",
       "       'Dhalpur, Jatra Bari, Dhaka', 'Block D, Aftab Nagar, Dhaka',\n",
       "       'Baitul Aman Housing Society, Adabor, Dhaka',\n",
       "       'Matikata, Cantonment, Dhaka', 'Ganaktuli Road, Hazaribag, Dhaka',\n",
       "       'Section 7, Mirpur, Dhaka', 'Monipuripara, Tejgaon, Dhaka',\n",
       "       'Lake Circus Road, Kalabagan, Dhaka', 'Sector 13, Uttara, Dhaka',\n",
       "       'West End Street, Hatirpool, Dhaka',\n",
       "       'Janata Housing Society, Adabor, Dhaka',\n",
       "       'Shantinagar Road, Shantinagar, Dhaka', 'Block J, Banasree, Dhaka',\n",
       "       'Abur Tek Road, Khilkhet, Dhaka', 'Road No 7, Dhanmondi, Dhaka',\n",
       "       'Park Road, Baridhara, Dhaka',\n",
       "       'Topkhana Road, Shegunbagicha, Dhaka',\n",
       "       'Block E, Aftab Nagar, Dhaka', 'Aga Sadek Road, Bangshal, Dhaka',\n",
       "       'Chandrima Model Town, Mohammadpur, Dhaka',\n",
       "       'Taltola, Agargaon, Dhaka',\n",
       "       'North Shahjahanpur, Shahjahanpur, Dhaka',\n",
       "       'Taltola goli, Maghbazar, Dhaka',\n",
       "       'North Mugdapara, Mugdapara, Dhaka',\n",
       "       'West Nakhalpara, Tejgaon, Dhaka',\n",
       "       'Shahid Latif Road, Dakshin Khan, Dhaka',\n",
       "       'Ahmed Nagar, Mirpur, Dhaka',\n",
       "       'Bashundhara Road, Bashundhara R-A, Dhaka',\n",
       "       'South Bashabo, Bashabo, Dhaka', 'Kadamtali, Shyampur, Dhaka',\n",
       "       'Kolta Bazar, Sutrapur, Dhaka', 'Central Road, Dhanmondi, Dhaka',\n",
       "       'Sector 10, Purbachal, Dhaka', 'Block E, Niketan, Dhaka',\n",
       "       'Wari, Sutrapur, Dhaka', 'Road No 4, Baridhara DOHS, Dhaka',\n",
       "       'Outer Circular Road, Maghbazar, Dhaka',\n",
       "       'Sheikhdi, Jatra Bari, Dhaka', 'Kosai Bari, Dakshin Khan, Dhaka',\n",
       "       'Fakirapool, Motijheel, Dhaka',\n",
       "       'Aurangzeb Road, Mohammadpur, Dhaka', 'Shahjadpur, Badda, Dhaka',\n",
       "       'Sector 14, Uttara, Dhaka', 'East Azampur, Dakshin Khan, Dhaka',\n",
       "       'Purana Paltan, Motijheel, Dhaka', 'Lalbagh Road, Lalbagh, Dhaka',\n",
       "       'Gulshan 2, Gulshan, Dhaka',\n",
       "       'South Mollartek, Dakshin Khan, Dhaka',\n",
       "       'Dakhshin Para, Mohakhali, Dhaka',\n",
       "       'Shahbagh Road, Paribagh, Dhaka', 'Mia Para, Dakshin Khan, Dhaka',\n",
       "       'Road No 13, Banani, Dhaka', 'Titas Gas Road, Shyampur, Dhaka',\n",
       "       'Sector 18, Purbachal, Dhaka',\n",
       "       'Khanka E Razviya Road/Zia Soroni, Shyampur, Dhaka',\n",
       "       'Sector 17, Purbachal, Dhaka', 'Road No 9, Baridhara DOHS, Dhaka',\n",
       "       'Bepari Goli, Maghbazar, Dhaka', 'Sector 15, Uttara, Dhaka',\n",
       "       'Shekhertek, Mohammadpur, Dhaka', 'Block G, Aftab Nagar, Dhaka',\n",
       "       'Block M, Aftab Nagar, Dhaka', 'Kamrangirchar, Dhaka',\n",
       "       'Sector 15, Purbachal, Dhaka', 'Sector 17, Uttara, Dhaka',\n",
       "       'Outer Circular Road, Shiddheswari, Dhaka',\n",
       "       'Faydabad, Dakshin Khan, Dhaka', 'Islambag, Lalbagh, Dhaka',\n",
       "       'Konapara, Jatra Bari, Dhaka',\n",
       "       'Muslim Modern College Road, Kachukhet, Dhaka',\n",
       "       'Faridabad, Shyampur, Dhaka', 'Block B, Aftab Nagar, Dhaka',\n",
       "       'Middle Paikpara, Mirpur, Dhaka', 'Road No 2A, Cantonment, Dhaka',\n",
       "       'Road No 15, Dhanmondi, Dhaka', 'Sector 20, Purbachal, Dhaka',\n",
       "       'Naya Bazar, Bangshal, Dhaka',\n",
       "       'Shahid Syed Nazrul Islam Sharani, Motijheel, Dhaka',\n",
       "       'Kachukhet, Dhaka', 'Kamlapur, Motijheel, Dhaka',\n",
       "       'Road No 11A, Dhanmondi, Dhaka', '2nd Colony, Mirpur, Dhaka',\n",
       "       'Kalabagan 1st Lane, Kalabagan, Dhaka', 'Badda, Savar, Dhaka',\n",
       "       'South Keraniganj, Keraniganj, Dhaka',\n",
       "       'New Baily Road, Shiddheswari, Dhaka',\n",
       "       'Green Road, Kalabagan, Dhaka',\n",
       "       'South Baridhara Residential Area,D.I.T. Project, Badda, Dhaka',\n",
       "       'Gobindapur, Jatra Bari, Dhaka', 'Road No 23, Banani, Dhaka',\n",
       "       'Road No 3A, Dhanmondi, Dhaka', 'Sector 11, Purbachal, Dhaka',\n",
       "       'Kalachandpur Main Road, Kalachandpur, Dhaka',\n",
       "       'Middle Monipur, Mirpur, Dhaka', 'Khaje Dewan, Lalbagh, Dhaka',\n",
       "       'Gopibag, Motijheel, Dhaka', 'Jhauchor, Hazaribag, Dhaka',\n",
       "       'Kawlar, Dakshin Khan, Dhaka', 'Humayun Road, Mohammadpur, Dhaka',\n",
       "       'Sector 2, Purbachal, Dhaka', 'Road No 14A, Dhanmondi, Dhaka',\n",
       "       'Sector 22, Purbachal, Dhaka', 'Gajanabi Road, Mohammadpur, Dhaka',\n",
       "       'Road No 10A, Dhanmondi, Dhaka', 'Road No 12A, Dhanmondi, Dhaka',\n",
       "       'North Bashabo, Bashabo, Dhaka', 'Road No 2, Dhanmondi, Dhaka',\n",
       "       'Road No 16, Dhanmondi, Dhaka', 'Merul Badda, Badda, Dhaka',\n",
       "       'West Mollartek, Dakshin Khan, Dhaka',\n",
       "       'Shah Kabir Mazar Road, Dakshin Khan, Dhaka',\n",
       "       'Titas Gas Road, Rampura, Dhaka', 'Middle Bashabo, Bashabo, Dhaka',\n",
       "       'Block B, Lalmatia, Dhaka', 'Section 13, Mirpur, Dhaka',\n",
       "       'Kalachandpur School Road, Kalachandpur, Dhaka',\n",
       "       'Khilji Road, Mohammadpur, Dhaka',\n",
       "       'New Elephant Road, Hatirpool, Dhaka',\n",
       "       'South Mugdapara, Mugdapara, Dhaka',\n",
       "       'Amtola Masjid Goli Road, North Shahjahanpur, Dhaka',\n",
       "       'Block L, Aftab Nagar, Dhaka', 'Block H, Aftab Nagar, Dhaka',\n",
       "       'Sector 21, Purbachal, Dhaka',\n",
       "       'Bagan Bari Road, Cantonment, Dhaka', 'Road No 7, Banani, Dhaka',\n",
       "       'Golden Street, Shyamoli, Dhaka', 'Alu Bazar, Bangshal, Dhaka',\n",
       "       'Vashantek, Cantonment, Dhaka', 'Atosh Khana Lane, Lalbagh, Dhaka',\n",
       "       'Agamasi Lane, Bangshal, Dhaka', 'Wasa Road, Mugdapara, Dhaka',\n",
       "       'Shantibag, Malibagh, Dhaka',\n",
       "       'Primary school Road, Ibrahimpur, Dhaka', 'Matuail, Demra, Dhaka',\n",
       "       'Shukrabad, Dhanmondi, Dhaka', 'Islamnagar, Kamrangirchar, Dhaka',\n",
       "       'Bank Town, Savar, Dhaka', 'Road No 2, Banani, Dhaka',\n",
       "       'Moghbazar Kazi Office Lane, Maghbazar, Dhaka',\n",
       "       'Postagola, Shyampur, Dhaka', 'Block A, Lalmatia, Dhaka',\n",
       "       'Vatara, Badda, Dhaka', 'Sher-E-Bangla Road, Dhanmondi, Dhaka',\n",
       "       'Block C, Lalmatia, Dhaka', 'Saat Rawza, Bangshal, Dhaka',\n",
       "       'Road No 2A, Dhanmondi, Dhaka',\n",
       "       'Kamal Soroni Road, Agargaon, Dhaka',\n",
       "       'Idgaha road, Ibrahimpur, Dhaka', 'Road No 18, Banani, Dhaka',\n",
       "       'Manikdi Road, Cantonment, Dhaka',\n",
       "       'Ashi Dag Road, Ibrahimpur, Dhaka', 'Adarsha Nagar, Badda, Dhaka',\n",
       "       'Road No 23, Mohakhali DOHS, Dhaka',\n",
       "       'Khondokar Goli Road, Shiddheswari, Dhaka',\n",
       "       'Japan Garden City, Mohammadpur, Dhaka',\n",
       "       'Doctor Goli, Maghbazar, Dhaka', 'Sarulia, Demra, Dhaka',\n",
       "       'West Dolairpar, Shyampur, Dhaka',\n",
       "       'North Ibrahimpur, Ibrahimpur, Dhaka', 'Turag, Dhaka',\n",
       "       'Ati Bazar, Keraniganj, Dhaka', 'Narinda, Sutrapur, Dhaka',\n",
       "       'Chad Uddan Housing, Mohammadpur, Dhaka',\n",
       "       'Dolphin Goli Road, Kalabagan, Dhaka', 'Sector 1, Uttara, Dhaka',\n",
       "       'Block D, Lalmatia, Dhaka', 'New Market, Dhaka',\n",
       "       'rayer bazar-sanker road, Dhanmondi, Dhaka',\n",
       "       'Kamal Khan Road, Ibrahimpur, Dhaka',\n",
       "       'Shegunbagicha Road, Shegunbagicha, Dhaka',\n",
       "       'Momin Road, Ibrahimpur, Dhaka', 'Road No 13, Baridhara, Dhaka',\n",
       "       'Road No 1, Baridhara, Dhaka',\n",
       "       'Bashir Uddin Road, Kalabagan, Dhaka', 'Monipur, Mirpur, Dhaka',\n",
       "       'Zia Sarani Road, Shyampur, Dhaka',\n",
       "       'Malibagh First Lane, Malibagh, Dhaka', 'Rajarbag, Bashabo, Dhaka',\n",
       "       'Krishi Bank Road, Badda, Dhaka',\n",
       "       'Sher-E-Bangla Road, Mohammadpur, Dhaka',\n",
       "       'Kazi Riaz Uddin Road, Lalbagh, Dhaka',\n",
       "       'Khajedal Sing Lane, Lalbagh, Dhaka', '1st Colony, Mirpur, Dhaka',\n",
       "       'North Dhanmondi Road, Kalabagan, Dhaka',\n",
       "       'Comfort Housing, Adabor, Dhaka',\n",
       "       'Salimullah Road, Mohammadpur, Dhaka', 'DIT Road, Malibagh, Dhaka',\n",
       "       'Block P, Bashundhara R-A, Dhaka', 'Shamibag, Sutrapur, Dhaka',\n",
       "       'Jhigatola Road, Dhanmondi, Dhaka', 'Goaltek, Dakshin Khan, Dhaka',\n",
       "       'Block K, Aftab Nagar, Dhaka', 'Road No 4, Banani DOHS, Dhaka',\n",
       "       'Block K, Bashundhara R-A, Dhaka', 'Katherpul, Sutrapur, Dhaka',\n",
       "       'Sohrawardy Avenue, Baridhara, Dhaka',\n",
       "       'Madhya Ajampur, Dakshin Khan, Dhaka',\n",
       "       'Karatitola, Sutrapur, Dhaka', 'Bangshal Road, Bangshal, Dhaka',\n",
       "       'Matikata Road, Cantonment, Dhaka',\n",
       "       'Sher Shah Suri Road, Mohammadpur, Dhaka', 'Kotwali, Dhaka',\n",
       "       'Taltola, Khilgaon, Dhaka', 'Road No 14, Banani, Dhaka',\n",
       "       'Hazi Abdur Rashid Lane, Bangshal, Dhaka',\n",
       "       'Road No 7, Baridhara DOHS, Dhaka', 'Staff Quarter, Demra, Dhaka',\n",
       "       'Lichu Bagan Road, Joar Sahara, Dhaka',\n",
       "       'Tikatuli, Sutrapur, Dhaka', 'Greenway Road, Maghbazar, Dhaka',\n",
       "       'Block D, Banasree, Dhaka', 'Bash Bari Road, Mohammadpur, Dhaka',\n",
       "       'Haji Rahim Box Lane, Lalbagh, Dhaka', 'Nadda, Dhaka',\n",
       "       'Kazirgaon, Jatra Bari, Dhaka', 'Azam Road, Mohammadpur, Dhaka',\n",
       "       'Arambagh, Motijheel, Dhaka', 'Shahjahan Road, Mohammadpur, Dhaka',\n",
       "       'Green Road, Dhanmondi, Dhaka',\n",
       "       'Science Museum To Water Tank Road, Agargaon, Dhaka',\n",
       "       'Bagicha Mashjid Road, North Shahjahanpur, Dhaka',\n",
       "       'Golapbag, Jatra Bari, Dhaka',\n",
       "       'Khan Bari Road, Kalachandpur, Dhaka',\n",
       "       'Rajia Sultana Road, Mohammadpur, Dhaka',\n",
       "       'Advanced Police Town, Savar, Dhaka', 'Sector 4, Purbachal, Dhaka',\n",
       "       'Road No 19, Mohakhali DOHS, Dhaka', 'Road No 4, Shyamoli, Dhaka',\n",
       "       'Kazi Motahar Hossain Road, Shegunbagicha, Dhaka',\n",
       "       'North Goran, Khilgaon, Dhaka',\n",
       "       'Zindabahar 2nd Lane, Kotwali, Dhaka',\n",
       "       'Ismail Lane, Eskaton, Dhaka', 'Tallabag, Hazaribag, Dhaka',\n",
       "       'Malibag Bazar Rd, Malibagh, Dhaka', 'Road No 3, Dhanmondi, Dhaka',\n",
       "       'Gawair, Dakshin Khan, Dhaka', 'Road No 6A, Dhanmondi, Dhaka',\n",
       "       'Tilpapara, Khilgaon, Dhaka', 'Shah Ali Bag, Mirpur, Dhaka',\n",
       "       'Agargaon, Dhaka', 'Rajarbagh, Motijheel, Dhaka',\n",
       "       'Chawk Bazar, Lalbagh, Dhaka', 'Mirpur Road, Shyamoli, Dhaka',\n",
       "       'North Road, Dhanmondi, Dhaka', 'Block L, Bashundhara R-A, Dhaka',\n",
       "       'Block D, Niketan, Dhaka', 'Matuail School Road, Demra, Dhaka',\n",
       "       'Keraniganj, Dhaka', 'Amligola, Lalbagh, Dhaka',\n",
       "       'aziz Moholla, Mohammadpur, Dhaka',\n",
       "       'Mohammadia Housing Society, Mohammadpur, Dhaka',\n",
       "       'Allabdirtec Road 1, Cantonment, Dhaka',\n",
       "       'Pearl Street, Shyamoli, Dhaka', 'Block K, Baridhara, Dhaka',\n",
       "       'Road No 16, Banani, Dhaka',\n",
       "       'Salimuddin Market Road, Mirpur, Dhaka', 'Uttara, Dhaka',\n",
       "       'South Azampur, Dakshin Khan, Dhaka', 'Aftab Nagar, Dhaka',\n",
       "       'Block N, Aftab Nagar, Dhaka', 'Kahektuli, Bangshal, Dhaka',\n",
       "       'Madartek, Bashabo, Dhaka', 'Mridha Bari, Kuril, Dhaka',\n",
       "       'Comilla Para, Badda, Dhaka', 'Nikunja 2, Nikunja, Dhaka',\n",
       "       'Imandipur, Savar, Dhaka', 'West Kafrul, Taltola, Dhaka',\n",
       "       'Uttar Khan, Dhaka', 'Kalabagan 2nd Lane, Kalabagan, Dhaka',\n",
       "       'Niketan, Road No 14/3, Niketan, Dhaka', 'Ullan, Rampura, Dhaka',\n",
       "       'Bashabo Madartek Road, Bashabo, Dhaka',\n",
       "       'Road No 6, Baridhara DOHS, Dhaka', 'Road No 6, Baridhara, Dhaka',\n",
       "       'Sobhanbag, Savar, Dhaka', 'Dagormora, Savar, Dhaka',\n",
       "       'Noa Nagar, Turag, Dhaka',\n",
       "       'Monipuri School Road, Ibrahimpur, Dhaka',\n",
       "       'Road No 1, Baridhara DOHS, Dhaka', 'Road No 10, Dhanmondi, Dhaka',\n",
       "       'Shagufta New Road, Mirpur, Dhaka', 'Kajla, Jatra Bari, Dhaka',\n",
       "       'Block C, Banasree, Dhaka', 'Jamoj Road, Joar Sahara, Dhaka',\n",
       "       'Dakkhin Paikpara, Mirpur, Dhaka',\n",
       "       'Tajmahal Road, Mohammadpur, Dhaka', 'Road No 21, Banani, Dhaka',\n",
       "       'South Town R/A, Keraniganj, Dhaka',\n",
       "       'Girls School Road, Dakshin Khan, Dhaka', 'Rajashon, Savar, Dhaka',\n",
       "       'Block B, Niketan, Dhaka',\n",
       "       'Malibagh Chowdhury Para, Malibagh, Dhaka',\n",
       "       'Road No 6, Banani DOHS, Dhaka', 'Road No 9, Niketan, Dhaka',\n",
       "       'North Kafrul Road, Ibrahimpur, Dhaka',\n",
       "       'North Maniknagar, Maniknagar, Dhaka', 'Azimpur, Lalbagh, Dhaka',\n",
       "       'Block A, Niketan, Dhaka', 'Road No 3, Niketan, Dhaka',\n",
       "       'Road No 3, Baridhara, Dhaka', 'Road No 5, Baridhara, Dhaka',\n",
       "       'Rajabazar, Tejgaon, Dhaka', 'Sadek Khan Road, Hazaribag, Dhaka',\n",
       "       'Sultangong Road, Hazaribag, Dhaka',\n",
       "       'Azimpur Road, Lalbagh, Dhaka', 'Abdul Aziz Lane, Lalbagh, Dhaka',\n",
       "       'Dholpur New Road, Jatra Bari, Dhaka',\n",
       "       'Julon Bari, Kotwali, Dhaka', 'Panthapath, Kathalbagan, Dhaka',\n",
       "       'Mitford Road, Bangshal, Dhaka',\n",
       "       'Motijheel Extension, Motijheel, Dhaka',\n",
       "       'Road No 11, Baridhara, Dhaka',\n",
       "       'Tejgaon Industrial Area, Tejgaon, Dhaka',\n",
       "       'Old Eskaton, Eskaton, Dhaka', 'Pragati Soroni, Kuril, Dhaka',\n",
       "       'Road No 3, Banani, Dhaka',\n",
       "       'Green City Housing, Mohammadpur, Dhaka',\n",
       "       'Namapara, Khilkhet, Dhaka', 'Block F, Banasree, Dhaka',\n",
       "       'Road No 8, Dhanmondi, Dhaka',\n",
       "       'Ibrahimpur Bazar Road, Ibrahimpur, Dhaka',\n",
       "       'Enayet Ganj, Hazaribag, Dhaka', 'Road No 4, Dhanmondi, Dhaka',\n",
       "       'Ward 98, Rampura, Dhaka', 'South Chalabon, Dakshin Khan, Dhaka',\n",
       "       'Kadamtala, Bashabo, Dhaka', 'Block C, Niketan, Dhaka',\n",
       "       'Road No 9, Adabor, Dhaka', 'Haji Goli, Agargaon, Dhaka',\n",
       "       'Police Fari road, Khilgaon, Dhaka', 'Majidpur, Savar, Dhaka',\n",
       "       'Banasree Main Road, Banasree, Dhaka',\n",
       "       'Elephant Road, New Market, Dhaka',\n",
       "       'South Kafrul Road, Kafrul, Dhaka',\n",
       "       'Sat Masjid Housing, Mohammadpur, Dhaka',\n",
       "       'Tikka Para Road, Mohammadpur, Dhaka',\n",
       "       'Block A, Aftab Nagar, Dhaka', 'Road No 1, Shyamoli, Dhaka',\n",
       "       'Dilkhushabag, Savar, Dhaka', 'Circular Road, Dhanmondi, Dhaka',\n",
       "       'Pearabagh Road, Maghbazar, Dhaka', 'Mainertek, Uttar Khan, Dhaka',\n",
       "       'Haji Abdullah Sarkar Lane, Bangshal, Dhaka',\n",
       "       'East Rampura Road, Rampura, Dhaka',\n",
       "       'Becharam Dewri, Bangshal, Dhaka',\n",
       "       'Muktijoddha Road, Kachukhet, Dhaka',\n",
       "       'Dobadia, Dakshin Khan, Dhaka',\n",
       "       'Meradia Main Road, Banasree, Dhaka', 'East Badda, Badda, Dhaka',\n",
       "       'Zafrabad, Hazaribag, Dhaka', 'Bata Goli, Maghbazar, Dhaka',\n",
       "       'Kutubkhali, Jatra Bari, Dhaka',\n",
       "       'Block C Extension, Banasree, Dhaka',\n",
       "       'Mymensingh Road, Shahbagh, Dhaka',\n",
       "       'Road No 10, Baridhara DOHS, Dhaka', 'Block F, Niketan, Dhaka',\n",
       "       'Madarbari, Uttar Khan, Dhaka',\n",
       "       'Shantibag - Shahidbag Road, Malibagh, Dhaka',\n",
       "       'Nawabpur Road, Bangshal, Dhaka'], dtype=object)"
      ]
     },
     "execution_count": 5,
     "metadata": {},
     "output_type": "execute_result"
    }
   ],
   "source": [
    "df1['Location'].unique()"
   ]
  },
  {
   "cell_type": "code",
   "execution_count": 6,
   "id": "2da8cb43",
   "metadata": {},
   "outputs": [
    {
     "data": {
      "text/plain": [
       "Location\n",
       "West Shewrapara, Mirpur, Dhaka              111\n",
       "Uttar Badda, Badda, Dhaka                   108\n",
       "Sector 10, Uttara, Dhaka                     96\n",
       "Chandrima Model Town, Mohammadpur, Dhaka     93\n",
       "Ashkona, Dakshin Khan, Dhaka                 87\n",
       "                                           ... \n",
       "Block K, Aftab Nagar, Dhaka                   1\n",
       "Road No 4, Banani DOHS, Dhaka                 1\n",
       "Block K, Bashundhara R-A, Dhaka               1\n",
       "Karatitola, Sutrapur, Dhaka                   1\n",
       "Nawabpur Road, Bangshal, Dhaka                1\n",
       "Name: count, Length: 555, dtype: int64"
      ]
     },
     "execution_count": 6,
     "metadata": {},
     "output_type": "execute_result"
    }
   ],
   "source": [
    "df1['Location'].value_counts()"
   ]
  },
  {
   "cell_type": "code",
   "execution_count": 7,
   "id": "8ecad69c",
   "metadata": {},
   "outputs": [
    {
     "data": {
      "text/html": [
       "<div>\n",
       "<style scoped>\n",
       "    .dataframe tbody tr th:only-of-type {\n",
       "        vertical-align: middle;\n",
       "    }\n",
       "\n",
       "    .dataframe tbody tr th {\n",
       "        vertical-align: top;\n",
       "    }\n",
       "\n",
       "    .dataframe thead th {\n",
       "        text-align: right;\n",
       "    }\n",
       "</style>\n",
       "<table border=\"1\" class=\"dataframe\">\n",
       "  <thead>\n",
       "    <tr style=\"text-align: right;\">\n",
       "      <th></th>\n",
       "      <th>Location</th>\n",
       "      <th>Price</th>\n",
       "      <th>No. Beds</th>\n",
       "      <th>No. Baths</th>\n",
       "      <th>Area</th>\n",
       "    </tr>\n",
       "  </thead>\n",
       "  <tbody>\n",
       "    <tr>\n",
       "      <th>0</th>\n",
       "      <td>Sector 10, Uttara, Dhaka</td>\n",
       "      <td>7500000</td>\n",
       "      <td>3.0</td>\n",
       "      <td>3.0</td>\n",
       "      <td>1300.0</td>\n",
       "    </tr>\n",
       "    <tr>\n",
       "      <th>1</th>\n",
       "      <td>Section 11, Mirpur, Dhaka</td>\n",
       "      <td>7280000</td>\n",
       "      <td>4.0</td>\n",
       "      <td>4.0</td>\n",
       "      <td>1456.0</td>\n",
       "    </tr>\n",
       "    <tr>\n",
       "      <th>2</th>\n",
       "      <td>Chowdhuripara, Khilgaon, Dhaka</td>\n",
       "      <td>13000000</td>\n",
       "      <td>3.0</td>\n",
       "      <td>3.0</td>\n",
       "      <td>1550.0</td>\n",
       "    </tr>\n",
       "    <tr>\n",
       "      <th>3</th>\n",
       "      <td>Road No 4, Banani, Dhaka</td>\n",
       "      <td>37000000</td>\n",
       "      <td>3.0</td>\n",
       "      <td>3.0</td>\n",
       "      <td>2669.0</td>\n",
       "    </tr>\n",
       "    <tr>\n",
       "      <th>4</th>\n",
       "      <td>South Banasree Project, Banasree, Dhaka</td>\n",
       "      <td>3600000</td>\n",
       "      <td>2.0</td>\n",
       "      <td>2.0</td>\n",
       "      <td>835.0</td>\n",
       "    </tr>\n",
       "  </tbody>\n",
       "</table>\n",
       "</div>"
      ],
      "text/plain": [
       "                                  Location     Price  No. Beds  No. Baths   \n",
       "0                 Sector 10, Uttara, Dhaka   7500000       3.0        3.0  \\\n",
       "1                Section 11, Mirpur, Dhaka   7280000       4.0        4.0   \n",
       "2           Chowdhuripara, Khilgaon, Dhaka  13000000       3.0        3.0   \n",
       "3                 Road No 4, Banani, Dhaka  37000000       3.0        3.0   \n",
       "4  South Banasree Project, Banasree, Dhaka   3600000       2.0        2.0   \n",
       "\n",
       "     Area  \n",
       "0  1300.0  \n",
       "1  1456.0  \n",
       "2  1550.0  \n",
       "3  2669.0  \n",
       "4   835.0  "
      ]
     },
     "execution_count": 7,
     "metadata": {},
     "output_type": "execute_result"
    }
   ],
   "source": [
    "df2 = df1.drop(['Type','Latitude','Longitude','Region','Sub-region','Unnamed: 0'],axis='columns')\n",
    "df2.shape\n",
    "df2.head()"
   ]
  },
  {
   "cell_type": "code",
   "execution_count": 8,
   "id": "782f39f9",
   "metadata": {},
   "outputs": [
    {
     "data": {
      "text/plain": [
       "Location       0\n",
       "Price          0\n",
       "No. Beds     204\n",
       "No. Baths    204\n",
       "Area           0\n",
       "dtype: int64"
      ]
     },
     "execution_count": 8,
     "metadata": {},
     "output_type": "execute_result"
    }
   ],
   "source": [
    "df2.isnull().sum()"
   ]
  },
  {
   "cell_type": "code",
   "execution_count": 9,
   "id": "5fb89b63",
   "metadata": {},
   "outputs": [],
   "source": [
    "df2['No. Beds'] = df2['No. Beds'].fillna(df2['No. Beds'].median())\n",
    "df2['No. Baths'] = df2['No. Baths'].fillna(df2['No. Baths'].median())"
   ]
  },
  {
   "cell_type": "code",
   "execution_count": 10,
   "id": "fa87a0f3",
   "metadata": {},
   "outputs": [
    {
     "data": {
      "text/plain": [
       "Location     0\n",
       "Price        0\n",
       "No. Beds     0\n",
       "No. Baths    0\n",
       "Area         0\n",
       "dtype: int64"
      ]
     },
     "execution_count": 10,
     "metadata": {},
     "output_type": "execute_result"
    }
   ],
   "source": [
    "df2.isnull().sum()"
   ]
  },
  {
   "cell_type": "code",
   "execution_count": 11,
   "id": "238e4732",
   "metadata": {},
   "outputs": [
    {
     "data": {
      "text/plain": [
       "array([ 3.,  4.,  2., 12., 16.,  5.,  1., 27., 22., 20., 36.,  7.,  6.,\n",
       "       24., 15., 32., 46., 26., 18.,  9.,  8., 14.])"
      ]
     },
     "execution_count": 11,
     "metadata": {},
     "output_type": "execute_result"
    }
   ],
   "source": [
    "df2['No. Beds'].unique()"
   ]
  },
  {
   "cell_type": "code",
   "execution_count": 12,
   "id": "5338fe81",
   "metadata": {},
   "outputs": [
    {
     "data": {
      "text/plain": [
       "array([ 3.,  4.,  2.,  1., 10.,  6.,  5.,  8.,  7.])"
      ]
     },
     "execution_count": 12,
     "metadata": {},
     "output_type": "execute_result"
    }
   ],
   "source": [
    "df2['No. Baths'].unique()"
   ]
  },
  {
   "cell_type": "code",
   "execution_count": 13,
   "id": "61c12a44",
   "metadata": {
    "scrolled": true
   },
   "outputs": [
    {
     "data": {
      "text/html": [
       "<div>\n",
       "<style scoped>\n",
       "    .dataframe tbody tr th:only-of-type {\n",
       "        vertical-align: middle;\n",
       "    }\n",
       "\n",
       "    .dataframe tbody tr th {\n",
       "        vertical-align: top;\n",
       "    }\n",
       "\n",
       "    .dataframe thead th {\n",
       "        text-align: right;\n",
       "    }\n",
       "</style>\n",
       "<table border=\"1\" class=\"dataframe\">\n",
       "  <thead>\n",
       "    <tr style=\"text-align: right;\">\n",
       "      <th></th>\n",
       "      <th>Location</th>\n",
       "      <th>Price</th>\n",
       "      <th>No. Beds</th>\n",
       "      <th>No. Baths</th>\n",
       "      <th>Area</th>\n",
       "    </tr>\n",
       "  </thead>\n",
       "  <tbody>\n",
       "    <tr>\n",
       "      <th>195</th>\n",
       "      <td>Section 2, Mirpur, Dhaka</td>\n",
       "      <td>36000000</td>\n",
       "      <td>27.0</td>\n",
       "      <td>10.0</td>\n",
       "      <td>9750.0</td>\n",
       "    </tr>\n",
       "    <tr>\n",
       "      <th>228</th>\n",
       "      <td>Pirerbag, Mirpur, Dhaka</td>\n",
       "      <td>40000000</td>\n",
       "      <td>22.0</td>\n",
       "      <td>10.0</td>\n",
       "      <td>11880.0</td>\n",
       "    </tr>\n",
       "    <tr>\n",
       "      <th>395</th>\n",
       "      <td>Block J, Bashundhara R-A, Dhaka</td>\n",
       "      <td>75000000</td>\n",
       "      <td>36.0</td>\n",
       "      <td>10.0</td>\n",
       "      <td>6000.0</td>\n",
       "    </tr>\n",
       "    <tr>\n",
       "      <th>629</th>\n",
       "      <td>Dhalpur, Jatra Bari, Dhaka</td>\n",
       "      <td>25000000</td>\n",
       "      <td>24.0</td>\n",
       "      <td>10.0</td>\n",
       "      <td>8000.0</td>\n",
       "    </tr>\n",
       "    <tr>\n",
       "      <th>2868</th>\n",
       "      <td>Block J, Bashundhara R-A, Dhaka</td>\n",
       "      <td>80000000</td>\n",
       "      <td>32.0</td>\n",
       "      <td>10.0</td>\n",
       "      <td>8050.0</td>\n",
       "    </tr>\n",
       "    <tr>\n",
       "      <th>2904</th>\n",
       "      <td>Section 1, Mirpur, Dhaka</td>\n",
       "      <td>75000000</td>\n",
       "      <td>46.0</td>\n",
       "      <td>10.0</td>\n",
       "      <td>19200.0</td>\n",
       "    </tr>\n",
       "    <tr>\n",
       "      <th>2921</th>\n",
       "      <td>Section 6, Mirpur, Dhaka</td>\n",
       "      <td>39000000</td>\n",
       "      <td>26.0</td>\n",
       "      <td>10.0</td>\n",
       "      <td>8425.0</td>\n",
       "    </tr>\n",
       "  </tbody>\n",
       "</table>\n",
       "</div>"
      ],
      "text/plain": [
       "                             Location     Price  No. Beds  No. Baths     Area\n",
       "195          Section 2, Mirpur, Dhaka  36000000      27.0       10.0   9750.0\n",
       "228           Pirerbag, Mirpur, Dhaka  40000000      22.0       10.0  11880.0\n",
       "395   Block J, Bashundhara R-A, Dhaka  75000000      36.0       10.0   6000.0\n",
       "629        Dhalpur, Jatra Bari, Dhaka  25000000      24.0       10.0   8000.0\n",
       "2868  Block J, Bashundhara R-A, Dhaka  80000000      32.0       10.0   8050.0\n",
       "2904         Section 1, Mirpur, Dhaka  75000000      46.0       10.0  19200.0\n",
       "2921         Section 6, Mirpur, Dhaka  39000000      26.0       10.0   8425.0"
      ]
     },
     "execution_count": 13,
     "metadata": {},
     "output_type": "execute_result"
    }
   ],
   "source": [
    "df2[df2['No. Beds']>20]"
   ]
  },
  {
   "cell_type": "code",
   "execution_count": 14,
   "id": "2f5ece6d",
   "metadata": {},
   "outputs": [
    {
     "data": {
      "text/plain": [
       "array([ 1300.,  1456.,  1550.,  2669.,   835.,  1260.,   750.,   938.,\n",
       "        1455.,  1376.,  1895.,  1785.,  2000.,  1525.,   960.,  1528.,\n",
       "        1510.,  1980.,  1150.,  1200.,  1050.,  1100.,  1280.,  1275.,\n",
       "         900.,   970.,   950.,   320.,  1110.,  3640.,  2184.,   940.,\n",
       "        6684.,  5400.,  1654.,  1334.,   850.,  1650.,  1250.,  1000.,\n",
       "        1500.,   880.,   790.,   650.,  1220.,   975.,  2200.,  5000.,\n",
       "        1080.,  3244.,  1315.,   980.,  1630.,  1503.,  1060.,   800.,\n",
       "        2570.,  2640.,  2674.,  1278.,  1203.,  1809.,  1530.,  1008.,\n",
       "        1575.,  1440.,   815.,  1115.,  1560.,  2400.,  1450.,   930.,\n",
       "        2745.,  2572.,  1400.,  2110.,  2374.,  2334.,  1595.,  2500.,\n",
       "        1890.,  4368.,  1375.,   600.,  2016.,  1350.,  1460.,  1065.,\n",
       "        9750.,  1369.,   920.,  1265.,  1140.,  1380.,  1513.,  5600.,\n",
       "        1025.,  1590.,  1700.,  1215.,  1322.,  1251.,  1323., 11880.,\n",
       "        1392.,  1221.,   425.,  2700.,  1900.,  1075.,  1662.,  1605.,\n",
       "        1370.,   820.,  1273.,   860.,   765.,  2476.,  7200.,  2250.,\n",
       "        1842.,  1566.,   990.,  1960.,  1120.,  1245.,  1490.,  1486.,\n",
       "        1175.,   450.,  1415.,  1554.,  1655.,  1485.,  1482.,  1480.,\n",
       "        1310.,  1290.,  1240.,  1335.,  2380.,  1330.,   925.,  1429.,\n",
       "        1463.,  2912.,  1276.,  2461.,  2072.,  6000.,  2102.,  3180.,\n",
       "        3052.,  1368.,  1570.,  1800.,  1125.,  1353.,   744.,   965.,\n",
       "         400.,  6880.,  1225.,   550.,  2550.,   951.,  1365.,  1196.,\n",
       "        1114.,  1010.,  1750.,  1086.,  2160.,  1145.,  1177.,  1420.,\n",
       "        1710.,  2850.,  2300.,  1600.,  2275.,  1520.,  1451.,  1194.,\n",
       "        1172.,  1640.,  1182.,  2100.,  2075.,  3218.,  1553.,  1305.,\n",
       "         872.,  1202.,  2520.,  1085.,   855.,  1320.,  1270.,  2370.,\n",
       "        1717.,  1295.,   720.,  1345.,  1160.,  8000.,  1691.,  2150.,\n",
       "         785.,  1123.,  2108.,  1217.,  4025.,  1515.,  1495.,  1535.,\n",
       "        2600.,  1549.,  2170.,  1425.,  4320., 15000.,  1390.,  2810.,\n",
       "        1258.,  1257.,  1170.,  1470.,  1670.,  2365.,  1131.,   890.,\n",
       "         878.,  1263.,  2880.,   865.,  1303.,   635.,   611.,   703.,\n",
       "        1635.,  2800.,  1755.,  1760.,   840.,   870.,  1264.,   632.,\n",
       "        1733.,  2960.,  1298.,  1234.,  3600.,  1780.,  1372.,   922.,\n",
       "        1741.,  1606.,  1066.,  1313.,  2080.,  3011.,  1054.,  3100.,\n",
       "        3030.,  2929.,  3096.,  3151.,   775.,  1168.,  2984.,  1133.,\n",
       "        1950.,  1095.,  2301.,   700.,  5096.,  1155.,  1055.,  1106.,\n",
       "        1885.,  1719.,   810.,  7560.,   730.,   825.,  3240.,   796.,\n",
       "        1548.,  1507.,  1720.,  1130.,  1625.,  1725.,  1078.,  1235.,\n",
       "        1445.,  1674.,  2720.,  1385.,   823.,  1508.,  1826.,   919.,\n",
       "        6120.,  1815.,  1388.,  1384.,  1458.,  1422.,  1184.,  1524.,\n",
       "        2440.,  1101.,  1088.,  1360.,  1475.,  1894.,   830.,  3267.,\n",
       "        1097.,   917.,  1953.,  3000.,  1418.,  1541.,  2172.,  2245.,\n",
       "        1020.,  4200.,  1406.,  1581.,  1286.,  1405.,  1578.,  2765.,\n",
       "        1021.,  2260.,  1568.,  1454.,  1874.,  1135.,  1188.,  1421.,\n",
       "        1169.,  1787.,  1180.,  2350.,  1015.,  3970.,  1565.,  1698.,\n",
       "        6480.,  1497.,  1997.,  2123.,  1040.,  2050.,  1210.,  2875.,\n",
       "         500.,  1230.,  1744.,  1643.,  1274.,  1352.,   728.,  1727.,\n",
       "        1604.,  1527.,  1754.,  1408.,  1620.,  1371.,  1089.,  1116.,\n",
       "        1093.,   939.,   760.,  1030.,  1179.,  1684.,  2510.,  1685.,\n",
       "        1822.,  1005.,  1003.,  1223.,  2130.,  1253.,  1695.,  1325.,\n",
       "        1992.,  1336.,   630.,  7280.,  1850.,  2305.,  2675., 43344.,\n",
       "         811.,  2230.,  2116.,  2331.,  1465.,  2528.,  1820.,  2181.,\n",
       "        1041.,   921.,  1364.,   735.,  2270.,  2191.,   875.,   943.,\n",
       "         927.,  1047.,   770.,  1167.,   540.,   455.,  1414.,  1905.,\n",
       "        4000.,   668.,  1222.,  1213.,  1241.,  1708.,  2009.,  6840.,\n",
       "        1660.,  1395.,  3452.,  3443.,  1545.,  2060.,  2340.,  1267.,\n",
       "        1496.,  1679.,  1464.,  1622.,  1124.,  1224.,  1860.,  1287.,\n",
       "        1229.,  1231.,   628.,  1576.,   892.,  1730.,   778.,  1954.,\n",
       "        1157.,  1158.,  2464.,  1029.,   665.,  1185.,  2131.,  1049.,\n",
       "        1689.,  1920.,  2070.,  1675.,  1239.,  1873.,  1910.,  1242.,\n",
       "         780.,  1618.,  2750.,  4375.,  2052.,  1616.,   714.,   620.,\n",
       "        2020.,  1870.,  1340.,  1074.,  1138.,  1916.,  1461.,  1435.,\n",
       "        2989.,  1087.,  1105.,  3106.,  1872.,  3129.,   977.,  1856.,\n",
       "        1331.,  1307.,  1651.,  1721.,  3500.,  1070.,  1017.,   852.,\n",
       "        1770.,  1173.,  2278.,   615.,  1359.,  1430.,  1090.,   935.,\n",
       "         955.,  2525.,  1441.,   682.,  2582.,  1035.,  1985.,  1680.,\n",
       "        1401.,  1506.,  1876.,  2166.,  2168.,  2285.,  2124.,  2900.,\n",
       "        1955.,  1019.,  1272.,  1255.,  2019.,  3355.,  4416.,  2239.,\n",
       "        1707.,  1413.,  2104.,  2197.,  1740.,  2177.,  2407.,  1386.,\n",
       "        1137.,  2449.,  1556.,  2115.,  1134.,  2229.,  1798.,  1593.,\n",
       "        1519.,  1394.,  1729.,  2388.,  2377.,  1536.,  2121.,  2375.,\n",
       "        1614.,  1083.,  8050.,  1818.,  1517.,  1141.,  1148.,  2231.,\n",
       "        2077.,  1195.,  1187.,  1975.,  1208.,  1232., 19200.,  3835.,\n",
       "        1639.,  3214.,  8425.,  3375.,  7020.,  2330.,  3217.,  1474.,\n",
       "        1398.,  1079.,   944.,  9120.,  1067.,  1266.,  1283.,  1624.,\n",
       "        1652.,  1337.,  1970.,   666.,  1938.,   616.,  1925.,  2450.,\n",
       "        2003.,  1597.,  1206.,  4050.,  2119.,   725.,  3680.,  2155.,\n",
       "         537.,   640.,   675.,  2240.,  1243.,  1212.,  1357.,  2639.,\n",
       "        1646.,   902.,  1343.,   688.,  1638.,   660.,  1558.,  3411.,\n",
       "        1825.,  9000.,  1768.,   885.,  2084.,  2225.,  2180.,  1642.,\n",
       "        1103.,  1986.,  2120.,  3286.,  1580.,   910.,  1393.,  2680.,\n",
       "        2490.,  1048.,  3150.,  2860.,  1715.,  2555.,  3450.,  3650.,\n",
       "        2337.,  1136.,  1880.,  1071.,  1410.,  1348.,  1473.,  1732.,\n",
       "        1879.,  1943.,  2351.,  2058.,  4500.,  3200.,  2578.,   807.,\n",
       "        2277.,  1256.,   715.,  1711.,  1045.,  1096.,  2146.,  2430.,\n",
       "        1762.,  1004.,  2882.,  1412.,  1178.,  1165.,  2228.,   924.,\n",
       "        3700.,   966.,  1098.,  2541.,  2175.,  1378.,  1214.,  2947.,\n",
       "        2235.,   995.,  1044.,  1036.,   740.,  1171.,  2320.,  1488.,\n",
       "         947.,   949.,   973.,   626.,  1521.,  1759.,  4736.,  1564.,\n",
       "         520.,  1875.,  1610.,   755.,  2785.,  2755.,  1901.,  1285.,\n",
       "        4427., 12000.,   952., 11900.,  2280.,  2186.,  1009.,  2396.,\n",
       "        1028.,  1053.,  2787.,   733.,  1653.,  1601.,  3300.,  1467.,\n",
       "        3800.,  1526.,  1540.,  2017.,  1665.,  1442.,  2665.,  1244.,\n",
       "        2176.,   915.,  1186.,  1634.,  1978.,  1633.,  1347.,  1397.,\n",
       "        3480.,   798.,  1362.,   957.,  4140.,  3960.,  2390.,  1677.,\n",
       "        1011.,  1424.,  1236.,  1288.,   997.,  1346.,   812.,  1922.,\n",
       "        2040.,  2234.,  1228.,   360.,  1254.,  1884.])"
      ]
     },
     "execution_count": 14,
     "metadata": {},
     "output_type": "execute_result"
    }
   ],
   "source": [
    "df2['Area'].unique()"
   ]
  },
  {
   "cell_type": "code",
   "execution_count": 15,
   "id": "91a54268",
   "metadata": {},
   "outputs": [
    {
     "data": {
      "text/html": [
       "<div>\n",
       "<style scoped>\n",
       "    .dataframe tbody tr th:only-of-type {\n",
       "        vertical-align: middle;\n",
       "    }\n",
       "\n",
       "    .dataframe tbody tr th {\n",
       "        vertical-align: top;\n",
       "    }\n",
       "\n",
       "    .dataframe thead th {\n",
       "        text-align: right;\n",
       "    }\n",
       "</style>\n",
       "<table border=\"1\" class=\"dataframe\">\n",
       "  <thead>\n",
       "    <tr style=\"text-align: right;\">\n",
       "      <th></th>\n",
       "      <th>Location</th>\n",
       "      <th>Price</th>\n",
       "      <th>No. Beds</th>\n",
       "      <th>No. Baths</th>\n",
       "      <th>Area</th>\n",
       "      <th>Price_per_sqft</th>\n",
       "    </tr>\n",
       "  </thead>\n",
       "  <tbody>\n",
       "    <tr>\n",
       "      <th>0</th>\n",
       "      <td>Sector 10, Uttara, Dhaka</td>\n",
       "      <td>7500000</td>\n",
       "      <td>3.0</td>\n",
       "      <td>3.0</td>\n",
       "      <td>1300.0</td>\n",
       "      <td>5769.230769</td>\n",
       "    </tr>\n",
       "    <tr>\n",
       "      <th>1</th>\n",
       "      <td>Section 11, Mirpur, Dhaka</td>\n",
       "      <td>7280000</td>\n",
       "      <td>4.0</td>\n",
       "      <td>4.0</td>\n",
       "      <td>1456.0</td>\n",
       "      <td>5000.000000</td>\n",
       "    </tr>\n",
       "    <tr>\n",
       "      <th>2</th>\n",
       "      <td>Chowdhuripara, Khilgaon, Dhaka</td>\n",
       "      <td>13000000</td>\n",
       "      <td>3.0</td>\n",
       "      <td>3.0</td>\n",
       "      <td>1550.0</td>\n",
       "      <td>8387.096774</td>\n",
       "    </tr>\n",
       "    <tr>\n",
       "      <th>3</th>\n",
       "      <td>Road No 4, Banani, Dhaka</td>\n",
       "      <td>37000000</td>\n",
       "      <td>3.0</td>\n",
       "      <td>3.0</td>\n",
       "      <td>2669.0</td>\n",
       "      <td>13862.869989</td>\n",
       "    </tr>\n",
       "    <tr>\n",
       "      <th>4</th>\n",
       "      <td>South Banasree Project, Banasree, Dhaka</td>\n",
       "      <td>3600000</td>\n",
       "      <td>2.0</td>\n",
       "      <td>2.0</td>\n",
       "      <td>835.0</td>\n",
       "      <td>4311.377246</td>\n",
       "    </tr>\n",
       "  </tbody>\n",
       "</table>\n",
       "</div>"
      ],
      "text/plain": [
       "                                  Location     Price  No. Beds  No. Baths   \n",
       "0                 Sector 10, Uttara, Dhaka   7500000       3.0        3.0  \\\n",
       "1                Section 11, Mirpur, Dhaka   7280000       4.0        4.0   \n",
       "2           Chowdhuripara, Khilgaon, Dhaka  13000000       3.0        3.0   \n",
       "3                 Road No 4, Banani, Dhaka  37000000       3.0        3.0   \n",
       "4  South Banasree Project, Banasree, Dhaka   3600000       2.0        2.0   \n",
       "\n",
       "     Area  Price_per_sqft  \n",
       "0  1300.0     5769.230769  \n",
       "1  1456.0     5000.000000  \n",
       "2  1550.0     8387.096774  \n",
       "3  2669.0    13862.869989  \n",
       "4   835.0     4311.377246  "
      ]
     },
     "execution_count": 15,
     "metadata": {},
     "output_type": "execute_result"
    }
   ],
   "source": [
    "df3 = df2.copy()\n",
    "df3['Price_per_sqft'] = df3['Price']/df3['Area']\n",
    "df3.head()"
   ]
  },
  {
   "cell_type": "code",
   "execution_count": 16,
   "id": "efcd8e40",
   "metadata": {},
   "outputs": [
    {
     "data": {
      "text/html": [
       "<div>\n",
       "<style scoped>\n",
       "    .dataframe tbody tr th:only-of-type {\n",
       "        vertical-align: middle;\n",
       "    }\n",
       "\n",
       "    .dataframe tbody tr th {\n",
       "        vertical-align: top;\n",
       "    }\n",
       "\n",
       "    .dataframe thead th {\n",
       "        text-align: right;\n",
       "    }\n",
       "</style>\n",
       "<table border=\"1\" class=\"dataframe\">\n",
       "  <thead>\n",
       "    <tr style=\"text-align: right;\">\n",
       "      <th></th>\n",
       "      <th>Location</th>\n",
       "      <th>Price</th>\n",
       "      <th>No. Beds</th>\n",
       "      <th>No. Baths</th>\n",
       "      <th>Area</th>\n",
       "      <th>Price_per_sqft</th>\n",
       "    </tr>\n",
       "  </thead>\n",
       "  <tbody>\n",
       "    <tr>\n",
       "      <th>0</th>\n",
       "      <td>Sector 10, Uttara, Dhaka</td>\n",
       "      <td>7500000</td>\n",
       "      <td>3.0</td>\n",
       "      <td>3.0</td>\n",
       "      <td>1300.0</td>\n",
       "      <td>5769.230769</td>\n",
       "    </tr>\n",
       "    <tr>\n",
       "      <th>1</th>\n",
       "      <td>Section 11, Mirpur, Dhaka</td>\n",
       "      <td>7280000</td>\n",
       "      <td>4.0</td>\n",
       "      <td>4.0</td>\n",
       "      <td>1456.0</td>\n",
       "      <td>5000.000000</td>\n",
       "    </tr>\n",
       "    <tr>\n",
       "      <th>2</th>\n",
       "      <td>Chowdhuripara, Khilgaon, Dhaka</td>\n",
       "      <td>13000000</td>\n",
       "      <td>3.0</td>\n",
       "      <td>3.0</td>\n",
       "      <td>1550.0</td>\n",
       "      <td>8387.096774</td>\n",
       "    </tr>\n",
       "    <tr>\n",
       "      <th>3</th>\n",
       "      <td>Road No 4, Banani, Dhaka</td>\n",
       "      <td>37000000</td>\n",
       "      <td>3.0</td>\n",
       "      <td>3.0</td>\n",
       "      <td>2669.0</td>\n",
       "      <td>13862.869989</td>\n",
       "    </tr>\n",
       "    <tr>\n",
       "      <th>4</th>\n",
       "      <td>South Banasree Project, Banasree, Dhaka</td>\n",
       "      <td>3600000</td>\n",
       "      <td>2.0</td>\n",
       "      <td>2.0</td>\n",
       "      <td>835.0</td>\n",
       "      <td>4311.377246</td>\n",
       "    </tr>\n",
       "  </tbody>\n",
       "</table>\n",
       "</div>"
      ],
      "text/plain": [
       "                                  Location     Price  No. Beds  No. Baths   \n",
       "0                 Sector 10, Uttara, Dhaka   7500000       3.0        3.0  \\\n",
       "1                Section 11, Mirpur, Dhaka   7280000       4.0        4.0   \n",
       "2           Chowdhuripara, Khilgaon, Dhaka  13000000       3.0        3.0   \n",
       "3                 Road No 4, Banani, Dhaka  37000000       3.0        3.0   \n",
       "4  South Banasree Project, Banasree, Dhaka   3600000       2.0        2.0   \n",
       "\n",
       "     Area  Price_per_sqft  \n",
       "0  1300.0     5769.230769  \n",
       "1  1456.0     5000.000000  \n",
       "2  1550.0     8387.096774  \n",
       "3  2669.0    13862.869989  \n",
       "4   835.0     4311.377246  "
      ]
     },
     "execution_count": 16,
     "metadata": {},
     "output_type": "execute_result"
    }
   ],
   "source": [
    "df3.head()"
   ]
  },
  {
   "cell_type": "code",
   "execution_count": 17,
   "id": "e1417121",
   "metadata": {},
   "outputs": [
    {
     "data": {
      "text/plain": [
       "555"
      ]
     },
     "execution_count": 17,
     "metadata": {},
     "output_type": "execute_result"
    }
   ],
   "source": [
    "len(df3['Location'].unique())"
   ]
  },
  {
   "cell_type": "code",
   "execution_count": 18,
   "id": "7b33186e",
   "metadata": {},
   "outputs": [
    {
     "name": "stderr",
     "output_type": "stream",
     "text": [
      "/tmp/ipykernel_5464/1548644348.py:1: UserWarning: Pandas doesn't allow columns to be created via a new attribute name - see https://pandas.pydata.org/pandas-docs/stable/indexing.html#attribute-access\n",
      "  df3.location = df3.Location.apply(lambda x: x.strip())\n"
     ]
    },
    {
     "data": {
      "text/plain": [
       "Location\n",
       "West Shewrapara, Mirpur, Dhaka              111\n",
       "Uttar Badda, Badda, Dhaka                   108\n",
       "Sector 10, Uttara, Dhaka                     96\n",
       "Chandrima Model Town, Mohammadpur, Dhaka     93\n",
       "Ashkona, Dakshin Khan, Dhaka                 87\n",
       "                                           ... \n",
       "Block K, Aftab Nagar, Dhaka                   1\n",
       "Road No 4, Banani DOHS, Dhaka                 1\n",
       "Block K, Bashundhara R-A, Dhaka               1\n",
       "Karatitola, Sutrapur, Dhaka                   1\n",
       "Nawabpur Road, Bangshal, Dhaka                1\n",
       "Name: count, Length: 555, dtype: int64"
      ]
     },
     "execution_count": 18,
     "metadata": {},
     "output_type": "execute_result"
    }
   ],
   "source": [
    "df3.location = df3.Location.apply(lambda x: x.strip())\n",
    "Location_stats = df3['Location'].value_counts(ascending=False)\n",
    "Location_stats"
   ]
  },
  {
   "cell_type": "code",
   "execution_count": 19,
   "id": "529ffee7",
   "metadata": {},
   "outputs": [
    {
     "data": {
      "text/plain": [
       "4704"
      ]
     },
     "execution_count": 19,
     "metadata": {},
     "output_type": "execute_result"
    }
   ],
   "source": [
    "Location_stats.values.sum()"
   ]
  },
  {
   "cell_type": "code",
   "execution_count": 20,
   "id": "70a18f7e",
   "metadata": {},
   "outputs": [
    {
     "data": {
      "text/plain": [
       "220"
      ]
     },
     "execution_count": 20,
     "metadata": {},
     "output_type": "execute_result"
    }
   ],
   "source": [
    "len(Location_stats[Location_stats>4])"
   ]
  },
  {
   "cell_type": "code",
   "execution_count": 21,
   "id": "360300e9",
   "metadata": {},
   "outputs": [
    {
     "data": {
      "text/plain": [
       "555"
      ]
     },
     "execution_count": 21,
     "metadata": {},
     "output_type": "execute_result"
    }
   ],
   "source": [
    "len(Location_stats)"
   ]
  },
  {
   "cell_type": "code",
   "execution_count": 22,
   "id": "5d5b911d",
   "metadata": {},
   "outputs": [
    {
     "data": {
      "text/plain": [
       "335"
      ]
     },
     "execution_count": 22,
     "metadata": {},
     "output_type": "execute_result"
    }
   ],
   "source": [
    "len(Location_stats[Location_stats<=4])"
   ]
  },
  {
   "cell_type": "code",
   "execution_count": 23,
   "id": "ea87e919",
   "metadata": {},
   "outputs": [
    {
     "data": {
      "text/plain": [
       "Location\n",
       "Road No 5, Banani, Dhaka                           4\n",
       "Road No 4, Shyamoli, Dhaka                         4\n",
       "Bagicha Mashjid Road, North Shahjahanpur, Dhaka    4\n",
       "Sector 15, Uttara, Dhaka                           4\n",
       "Rupnagar R/A, Mirpur, Dhaka                        4\n",
       "                                                  ..\n",
       "Block K, Aftab Nagar, Dhaka                        1\n",
       "Road No 4, Banani DOHS, Dhaka                      1\n",
       "Block K, Bashundhara R-A, Dhaka                    1\n",
       "Karatitola, Sutrapur, Dhaka                        1\n",
       "Nawabpur Road, Bangshal, Dhaka                     1\n",
       "Name: count, Length: 335, dtype: int64"
      ]
     },
     "execution_count": 23,
     "metadata": {},
     "output_type": "execute_result"
    }
   ],
   "source": [
    "Location_stats_less_than_4 = Location_stats[Location_stats<=4]\n",
    "Location_stats_less_than_4"
   ]
  },
  {
   "cell_type": "code",
   "execution_count": 24,
   "id": "1464d459",
   "metadata": {},
   "outputs": [
    {
     "data": {
      "text/plain": [
       "555"
      ]
     },
     "execution_count": 24,
     "metadata": {},
     "output_type": "execute_result"
    }
   ],
   "source": [
    "len(df3.Location.unique())"
   ]
  },
  {
   "cell_type": "code",
   "execution_count": 25,
   "id": "57e727ef",
   "metadata": {},
   "outputs": [
    {
     "data": {
      "text/plain": [
       "221"
      ]
     },
     "execution_count": 25,
     "metadata": {},
     "output_type": "execute_result"
    }
   ],
   "source": [
    "df3.Location = df3.Location.apply(lambda x: 'Other' if x in Location_stats_less_than_4 else x)\n",
    "len(df3.Location.unique())\n"
   ]
  },
  {
   "cell_type": "code",
   "execution_count": 26,
   "id": "9d90cde0",
   "metadata": {},
   "outputs": [
    {
     "data": {
      "text/html": [
       "<div>\n",
       "<style scoped>\n",
       "    .dataframe tbody tr th:only-of-type {\n",
       "        vertical-align: middle;\n",
       "    }\n",
       "\n",
       "    .dataframe tbody tr th {\n",
       "        vertical-align: top;\n",
       "    }\n",
       "\n",
       "    .dataframe thead th {\n",
       "        text-align: right;\n",
       "    }\n",
       "</style>\n",
       "<table border=\"1\" class=\"dataframe\">\n",
       "  <thead>\n",
       "    <tr style=\"text-align: right;\">\n",
       "      <th></th>\n",
       "      <th>Location</th>\n",
       "      <th>Price</th>\n",
       "      <th>No. Beds</th>\n",
       "      <th>No. Baths</th>\n",
       "      <th>Area</th>\n",
       "      <th>Price_per_sqft</th>\n",
       "    </tr>\n",
       "  </thead>\n",
       "  <tbody>\n",
       "    <tr>\n",
       "      <th>0</th>\n",
       "      <td>Sector 10, Uttara, Dhaka</td>\n",
       "      <td>7500000</td>\n",
       "      <td>3.0</td>\n",
       "      <td>3.0</td>\n",
       "      <td>1300.0</td>\n",
       "      <td>5769.230769</td>\n",
       "    </tr>\n",
       "    <tr>\n",
       "      <th>1</th>\n",
       "      <td>Section 11, Mirpur, Dhaka</td>\n",
       "      <td>7280000</td>\n",
       "      <td>4.0</td>\n",
       "      <td>4.0</td>\n",
       "      <td>1456.0</td>\n",
       "      <td>5000.000000</td>\n",
       "    </tr>\n",
       "    <tr>\n",
       "      <th>2</th>\n",
       "      <td>Chowdhuripara, Khilgaon, Dhaka</td>\n",
       "      <td>13000000</td>\n",
       "      <td>3.0</td>\n",
       "      <td>3.0</td>\n",
       "      <td>1550.0</td>\n",
       "      <td>8387.096774</td>\n",
       "    </tr>\n",
       "    <tr>\n",
       "      <th>3</th>\n",
       "      <td>Road No 4, Banani, Dhaka</td>\n",
       "      <td>37000000</td>\n",
       "      <td>3.0</td>\n",
       "      <td>3.0</td>\n",
       "      <td>2669.0</td>\n",
       "      <td>13862.869989</td>\n",
       "    </tr>\n",
       "    <tr>\n",
       "      <th>4</th>\n",
       "      <td>South Banasree Project, Banasree, Dhaka</td>\n",
       "      <td>3600000</td>\n",
       "      <td>2.0</td>\n",
       "      <td>2.0</td>\n",
       "      <td>835.0</td>\n",
       "      <td>4311.377246</td>\n",
       "    </tr>\n",
       "    <tr>\n",
       "      <th>5</th>\n",
       "      <td>Section 11, Mirpur, Dhaka</td>\n",
       "      <td>6800000</td>\n",
       "      <td>3.0</td>\n",
       "      <td>3.0</td>\n",
       "      <td>1260.0</td>\n",
       "      <td>5396.825397</td>\n",
       "    </tr>\n",
       "    <tr>\n",
       "      <th>6</th>\n",
       "      <td>Section 11, Mirpur, Dhaka</td>\n",
       "      <td>6800000</td>\n",
       "      <td>3.0</td>\n",
       "      <td>3.0</td>\n",
       "      <td>1260.0</td>\n",
       "      <td>5396.825397</td>\n",
       "    </tr>\n",
       "    <tr>\n",
       "      <th>7</th>\n",
       "      <td>Other</td>\n",
       "      <td>5500000</td>\n",
       "      <td>2.0</td>\n",
       "      <td>2.0</td>\n",
       "      <td>750.0</td>\n",
       "      <td>7333.333333</td>\n",
       "    </tr>\n",
       "    <tr>\n",
       "      <th>8</th>\n",
       "      <td>West Rampura, Rampura, Dhaka</td>\n",
       "      <td>6700000</td>\n",
       "      <td>3.0</td>\n",
       "      <td>2.0</td>\n",
       "      <td>938.0</td>\n",
       "      <td>7142.857143</td>\n",
       "    </tr>\n",
       "    <tr>\n",
       "      <th>9</th>\n",
       "      <td>Farmgate, Tejgaon, Dhaka</td>\n",
       "      <td>13500000</td>\n",
       "      <td>3.0</td>\n",
       "      <td>3.0</td>\n",
       "      <td>1455.0</td>\n",
       "      <td>9278.350515</td>\n",
       "    </tr>\n",
       "  </tbody>\n",
       "</table>\n",
       "</div>"
      ],
      "text/plain": [
       "                                  Location     Price  No. Beds  No. Baths   \n",
       "0                 Sector 10, Uttara, Dhaka   7500000       3.0        3.0  \\\n",
       "1                Section 11, Mirpur, Dhaka   7280000       4.0        4.0   \n",
       "2           Chowdhuripara, Khilgaon, Dhaka  13000000       3.0        3.0   \n",
       "3                 Road No 4, Banani, Dhaka  37000000       3.0        3.0   \n",
       "4  South Banasree Project, Banasree, Dhaka   3600000       2.0        2.0   \n",
       "5                Section 11, Mirpur, Dhaka   6800000       3.0        3.0   \n",
       "6                Section 11, Mirpur, Dhaka   6800000       3.0        3.0   \n",
       "7                                    Other   5500000       2.0        2.0   \n",
       "8             West Rampura, Rampura, Dhaka   6700000       3.0        2.0   \n",
       "9                 Farmgate, Tejgaon, Dhaka  13500000       3.0        3.0   \n",
       "\n",
       "     Area  Price_per_sqft  \n",
       "0  1300.0     5769.230769  \n",
       "1  1456.0     5000.000000  \n",
       "2  1550.0     8387.096774  \n",
       "3  2669.0    13862.869989  \n",
       "4   835.0     4311.377246  \n",
       "5  1260.0     5396.825397  \n",
       "6  1260.0     5396.825397  \n",
       "7   750.0     7333.333333  \n",
       "8   938.0     7142.857143  \n",
       "9  1455.0     9278.350515  "
      ]
     },
     "execution_count": 26,
     "metadata": {},
     "output_type": "execute_result"
    }
   ],
   "source": [
    "df3.head(10)"
   ]
  },
  {
   "cell_type": "code",
   "execution_count": 27,
   "id": "ab64bb82",
   "metadata": {},
   "outputs": [
    {
     "data": {
      "text/plain": [
       "(4704, 6)"
      ]
     },
     "execution_count": 27,
     "metadata": {},
     "output_type": "execute_result"
    }
   ],
   "source": [
    "df3.shape"
   ]
  },
  {
   "cell_type": "code",
   "execution_count": 28,
   "id": "b051296b",
   "metadata": {},
   "outputs": [
    {
     "data": {
      "text/plain": [
       "(4202, 6)"
      ]
     },
     "execution_count": 28,
     "metadata": {},
     "output_type": "execute_result"
    }
   ],
   "source": [
    "df4 = df3[~(df3['Area'] / df3['No. Beds'] < 350)]\n",
    "df4.shape"
   ]
  },
  {
   "cell_type": "code",
   "execution_count": 29,
   "id": "565cb814",
   "metadata": {},
   "outputs": [
    {
     "data": {
      "text/plain": [
       "count     4202.000000\n",
       "mean      6449.211291\n",
       "std       2773.585309\n",
       "min        416.666667\n",
       "25%       4736.842105\n",
       "50%       5802.939892\n",
       "75%       7328.884030\n",
       "max      30906.593407\n",
       "Name: Price_per_sqft, dtype: float64"
      ]
     },
     "execution_count": 29,
     "metadata": {},
     "output_type": "execute_result"
    }
   ],
   "source": [
    "df4.Price_per_sqft.describe()"
   ]
  },
  {
   "cell_type": "code",
   "execution_count": 30,
   "id": "1db8cd79",
   "metadata": {
    "scrolled": true
   },
   "outputs": [
    {
     "data": {
      "text/plain": [
       "(3004, 6)"
      ]
     },
     "execution_count": 30,
     "metadata": {},
     "output_type": "execute_result"
    }
   ],
   "source": [
    "def remove_pps_outliers(df):\n",
    "    df_out = pd.DataFrame()\n",
    "    for key, subdf in df.groupby('Location'):\n",
    "        m = np.mean(subdf.Price_per_sqft)\n",
    "        st = np.std(subdf.Price_per_sqft)\n",
    "        reduced_df = subdf[(subdf.Price_per_sqft>(m-st)) & (subdf.Price_per_sqft<=(m+st))]\n",
    "        df_out = pd.concat([df_out,reduced_df],ignore_index=True)\n",
    "    return df_out\n",
    "df5 = remove_pps_outliers(df4)\n",
    "df5.shape"
   ]
  },
  {
   "cell_type": "code",
   "execution_count": 31,
   "id": "9ee5b42e",
   "metadata": {},
   "outputs": [
    {
     "data": {
      "image/png": "[encoded data removed]",
      "text/plain": [
       "<Figure size 1500x1000 with 1 Axes>"
      ]
     },
     "metadata": {},
     "output_type": "display_data"
    }
   ],
   "source": [
    "def plot_scatter_chart(df,Location):\n",
    "    Bedrooms2 = df[(df['Location'] == Location) & (df['No. Beds'] == 2)]\n",
    "    Bedrooms3 = df[(df['Location'] == Location) & (df['No. Beds'] == 3)]\n",
    "    matplotlib.rcParams['figure.figsize'] = (15,10)\n",
    "    plt.scatter(Bedrooms2.Area,Bedrooms2.Price,color='blue',label='2 Bedrooms', s=50)\n",
    "    plt.scatter(Bedrooms3.Area,Bedrooms3.Price,marker='+', color='green',label='3 Bedrooms', s=50)\n",
    "    plt.xlabel(\"Total Square Feet Area\")\n",
    "    plt.ylabel(\"Price\")\n",
    "    plt.title(Location)\n",
    "    plt.legend()\n",
    "    \n",
    "plot_scatter_chart(df5,\"Uttar Badda, Badda, Dhaka\")\n"
   ]
  },
  {
   "cell_type": "code",
   "execution_count": 32,
   "id": "da386666",
   "metadata": {
    "scrolled": true
   },
   "outputs": [
    {
     "data": {
      "image/png": "[encoded data removed]",
      "text/plain": [
       "<Figure size 1500x1000 with 1 Axes>"
      ]
     },
     "metadata": {},
     "output_type": "display_data"
    }
   ],
   "source": [
    "plot_scatter_chart(df5,\"Sector 10, Uttara, Dhaka\")"
   ]
  },
  {
   "cell_type": "code",
   "execution_count": 33,
   "id": "85ea869e",
   "metadata": {
    "scrolled": false
   },
   "outputs": [
    {
     "data": {
      "text/plain": [
       "Location\n",
       "West Shewrapara, Mirpur, Dhaka                   111\n",
       "Uttar Badda, Badda, Dhaka                        108\n",
       "Sector 10, Uttara, Dhaka                          96\n",
       "Chandrima Model Town, Mohammadpur, Dhaka          93\n",
       "Ashkona, Dakshin Khan, Dhaka                      87\n",
       "West Dhanmondi and Shangkar, Dhanmondi, Dhaka     79\n",
       "Darussalam, Mirpur, Dhaka                         70\n",
       "Pallabi, Mirpur, Dhaka                            66\n",
       "Kallyanpur, Mirpur, Dhaka                         65\n",
       "Section 10, Mirpur, Dhaka                         64\n",
       "Name: count, dtype: int64"
      ]
     },
     "execution_count": 33,
     "metadata": {},
     "output_type": "execute_result"
    }
   ],
   "source": [
    "Location_stats.head(10)"
   ]
  },
  {
   "cell_type": "code",
   "execution_count": 34,
   "id": "2ac0ab5b",
   "metadata": {},
   "outputs": [
    {
     "data": {
      "text/plain": [
       "(2710, 6)"
      ]
     },
     "execution_count": 34,
     "metadata": {},
     "output_type": "execute_result"
    }
   ],
   "source": [
    "def remove_Bedrooms_outliers(df):\n",
    "    exclude_indices = np.array([])\n",
    "    for Location, Location_df in df.groupby('Location'):\n",
    "        Bedrooms_stats = {}\n",
    "        for Bedrooms, Bedrooms_df in Location_df.groupby('No. Beds'):\n",
    "            Bedrooms_stats[Bedrooms] = {\n",
    "                'mean': np.mean(Bedrooms_df.Price_per_sqft),\n",
    "                'std': np.std(Bedrooms_df.Price_per_sqft),\n",
    "                'count': Bedrooms_df.shape[0]\n",
    "            }\n",
    "        for Bedrooms, Bedrooms_df in Location_df.groupby('No. Beds'):\n",
    "            stats = Bedrooms_stats.get(Bedrooms-1)\n",
    "            if stats and stats['count']>5:\n",
    "                exclude_indices = np.append(exclude_indices, Bedrooms_df[Bedrooms_df.Price_per_sqft<(stats['mean'])].index.values)\n",
    "    return df.drop(exclude_indices,axis='index')\n",
    "df6 = remove_Bedrooms_outliers(df5)\n",
    "# df6 = df5.copy()\n",
    "df6.shape"
   ]
  },
  {
   "cell_type": "markdown",
   "id": "9a670325",
   "metadata": {},
   "source": [
    " "
   ]
  },
  {
   "cell_type": "code",
   "execution_count": 41,
   "id": "53da3bcb",
   "metadata": {
    "scrolled": true
   },
   "outputs": [
    {
     "data": {
      "image/png": "[encoded data removed]",
      "text/plain": [
       "<Figure size 1500x1000 with 1 Axes>"
      ]
     },
     "metadata": {},
     "output_type": "display_data"
    }
   ],
   "source": [
    "plot_scatter_chart(df5,\"Uttar Badda, Badda, Dhaka\")"
   ]
  },
  {
   "cell_type": "code",
   "execution_count": 42,
   "id": "0fe2bc7e",
   "metadata": {},
   "outputs": [
    {
     "data": {
      "text/plain": [
       "Text(0, 0.5, 'Count')"
      ]
     },
     "execution_count": 42,
     "metadata": {},
     "output_type": "execute_result"
    },
    {
     "data": {
      "image/png": "[encoded data removed]",
      "text/plain": [
       "<Figure size 2000x1000 with 1 Axes>"
      ]
     },
     "metadata": {},
     "output_type": "display_data"
    }
   ],
   "source": [
    "import matplotlib\n",
    "matplotlib.rcParams[\"figure.figsize\"] = (20,10)\n",
    "plt.hist(df6.Price_per_sqft,rwidth=0.8)\n",
    "plt.xlabel(\"Price Per Square Feet\")\n",
    "plt.ylabel(\"Count\")"
   ]
  },
  {
   "cell_type": "code",
   "execution_count": 43,
   "id": "b987a8c1",
   "metadata": {},
   "outputs": [
    {
     "data": {
      "text/plain": [
       "array([ 3.,  2.,  4.,  5.,  1., 10.,  7.,  6.,  8.])"
      ]
     },
     "execution_count": 43,
     "metadata": {},
     "output_type": "execute_result"
    }
   ],
   "source": [
    "df6['No. Baths'].unique()"
   ]
  },
  {
   "cell_type": "code",
   "execution_count": 44,
   "id": "187f239c",
   "metadata": {},
   "outputs": [
    {
     "data": {
      "text/html": [
       "<div>\n",
       "<style scoped>\n",
       "    .dataframe tbody tr th:only-of-type {\n",
       "        vertical-align: middle;\n",
       "    }\n",
       "\n",
       "    .dataframe tbody tr th {\n",
       "        vertical-align: top;\n",
       "    }\n",
       "\n",
       "    .dataframe thead th {\n",
       "        text-align: right;\n",
       "    }\n",
       "</style>\n",
       "<table border=\"1\" class=\"dataframe\">\n",
       "  <thead>\n",
       "    <tr style=\"text-align: right;\">\n",
       "      <th></th>\n",
       "      <th>Location</th>\n",
       "      <th>Price</th>\n",
       "      <th>No. Beds</th>\n",
       "      <th>No. Baths</th>\n",
       "      <th>Area</th>\n",
       "      <th>Price_per_sqft</th>\n",
       "    </tr>\n",
       "  </thead>\n",
       "  <tbody>\n",
       "    <tr>\n",
       "      <th>300</th>\n",
       "      <td>Block C, Banasree, Dhaka</td>\n",
       "      <td>70500000</td>\n",
       "      <td>20.0</td>\n",
       "      <td>10.0</td>\n",
       "      <td>12000.0</td>\n",
       "      <td>5875.000000</td>\n",
       "    </tr>\n",
       "    <tr>\n",
       "      <th>301</th>\n",
       "      <td>Block C, Banasree, Dhaka</td>\n",
       "      <td>65000000</td>\n",
       "      <td>14.0</td>\n",
       "      <td>10.0</td>\n",
       "      <td>11900.0</td>\n",
       "      <td>5462.184874</td>\n",
       "    </tr>\n",
       "    <tr>\n",
       "      <th>469</th>\n",
       "      <td>Block F, Bashundhara R-A, Dhaka</td>\n",
       "      <td>70000000</td>\n",
       "      <td>18.0</td>\n",
       "      <td>10.0</td>\n",
       "      <td>9120.0</td>\n",
       "      <td>7675.438596</td>\n",
       "    </tr>\n",
       "    <tr>\n",
       "      <th>1098</th>\n",
       "      <td>Jigatola, Hazaribag, Dhaka</td>\n",
       "      <td>25000000</td>\n",
       "      <td>8.0</td>\n",
       "      <td>8.0</td>\n",
       "      <td>4500.0</td>\n",
       "      <td>5555.555556</td>\n",
       "    </tr>\n",
       "    <tr>\n",
       "      <th>1557</th>\n",
       "      <td>Other</td>\n",
       "      <td>33000000</td>\n",
       "      <td>20.0</td>\n",
       "      <td>10.0</td>\n",
       "      <td>7200.0</td>\n",
       "      <td>4583.333333</td>\n",
       "    </tr>\n",
       "    <tr>\n",
       "      <th>2513</th>\n",
       "      <td>Sector 4, Uttara, Dhaka</td>\n",
       "      <td>65000000</td>\n",
       "      <td>12.0</td>\n",
       "      <td>10.0</td>\n",
       "      <td>6684.0</td>\n",
       "      <td>9724.715739</td>\n",
       "    </tr>\n",
       "  </tbody>\n",
       "</table>\n",
       "</div>"
      ],
      "text/plain": [
       "                             Location     Price  No. Beds  No. Baths     Area   \n",
       "300          Block C, Banasree, Dhaka  70500000      20.0       10.0  12000.0  \\\n",
       "301          Block C, Banasree, Dhaka  65000000      14.0       10.0  11900.0   \n",
       "469   Block F, Bashundhara R-A, Dhaka  70000000      18.0       10.0   9120.0   \n",
       "1098       Jigatola, Hazaribag, Dhaka  25000000       8.0        8.0   4500.0   \n",
       "1557                            Other  33000000      20.0       10.0   7200.0   \n",
       "2513          Sector 4, Uttara, Dhaka  65000000      12.0       10.0   6684.0   \n",
       "\n",
       "      Price_per_sqft  \n",
       "300      5875.000000  \n",
       "301      5462.184874  \n",
       "469      7675.438596  \n",
       "1098     5555.555556  \n",
       "1557     4583.333333  \n",
       "2513     9724.715739  "
      ]
     },
     "execution_count": 44,
     "metadata": {},
     "output_type": "execute_result"
    }
   ],
   "source": [
    "df6[df6['No. Baths']>7]"
   ]
  },
  {
   "cell_type": "code",
   "execution_count": 45,
   "id": "25089fe8",
   "metadata": {},
   "outputs": [
    {
     "data": {
      "text/plain": [
       "Text(0, 0.5, 'Count')"
      ]
     },
     "execution_count": 45,
     "metadata": {},
     "output_type": "execute_result"
    },
    {
     "data": {
      "image/png": "[encoded data removed]",
      "text/plain": [
       "<Figure size 2000x1000 with 1 Axes>"
      ]
     },
     "metadata": {},
     "output_type": "display_data"
    }
   ],
   "source": [
    "plt.hist(df6['No. Baths'],rwidth=0.8)\n",
    "plt.xlabel(\"Number of Bathrooms\")\n",
    "plt.ylabel(\"Count\")"
   ]
  },
  {
   "cell_type": "code",
   "execution_count": 48,
   "id": "f4836ae6",
   "metadata": {},
   "outputs": [
    {
     "data": {
      "text/html": [
       "<div>\n",
       "<style scoped>\n",
       "    .dataframe tbody tr th:only-of-type {\n",
       "        vertical-align: middle;\n",
       "    }\n",
       "\n",
       "    .dataframe tbody tr th {\n",
       "        vertical-align: top;\n",
       "    }\n",
       "\n",
       "    .dataframe thead th {\n",
       "        text-align: right;\n",
       "    }\n",
       "</style>\n",
       "<table border=\"1\" class=\"dataframe\">\n",
       "  <thead>\n",
       "    <tr style=\"text-align: right;\">\n",
       "      <th></th>\n",
       "      <th>Location</th>\n",
       "      <th>Price</th>\n",
       "      <th>No. Beds</th>\n",
       "      <th>No. Baths</th>\n",
       "      <th>Area</th>\n",
       "      <th>Price_per_sqft</th>\n",
       "    </tr>\n",
       "  </thead>\n",
       "  <tbody>\n",
       "    <tr>\n",
       "      <th>426</th>\n",
       "      <td>Block E, Bashundhara R-A, Dhaka</td>\n",
       "      <td>15000000</td>\n",
       "      <td>3.0</td>\n",
       "      <td>5.0</td>\n",
       "      <td>2278.0</td>\n",
       "      <td>6584.723442</td>\n",
       "    </tr>\n",
       "    <tr>\n",
       "      <th>665</th>\n",
       "      <td>Central Road, Dhanmondi, Dhaka</td>\n",
       "      <td>40000000</td>\n",
       "      <td>4.0</td>\n",
       "      <td>6.0</td>\n",
       "      <td>3000.0</td>\n",
       "      <td>13333.333333</td>\n",
       "    </tr>\n",
       "    <tr>\n",
       "      <th>1032</th>\n",
       "      <td>Gulshan 1, Gulshan, Dhaka</td>\n",
       "      <td>75000000</td>\n",
       "      <td>4.0</td>\n",
       "      <td>6.0</td>\n",
       "      <td>4500.0</td>\n",
       "      <td>16666.666667</td>\n",
       "    </tr>\n",
       "    <tr>\n",
       "      <th>2427</th>\n",
       "      <td>Sector 10, Uttara, Dhaka</td>\n",
       "      <td>14137500</td>\n",
       "      <td>3.0</td>\n",
       "      <td>5.0</td>\n",
       "      <td>2175.0</td>\n",
       "      <td>6500.000000</td>\n",
       "    </tr>\n",
       "    <tr>\n",
       "      <th>2428</th>\n",
       "      <td>Sector 10, Uttara, Dhaka</td>\n",
       "      <td>14137500</td>\n",
       "      <td>3.0</td>\n",
       "      <td>5.0</td>\n",
       "      <td>2175.0</td>\n",
       "      <td>6500.000000</td>\n",
       "    </tr>\n",
       "    <tr>\n",
       "      <th>2429</th>\n",
       "      <td>Sector 10, Uttara, Dhaka</td>\n",
       "      <td>14137500</td>\n",
       "      <td>3.0</td>\n",
       "      <td>5.0</td>\n",
       "      <td>2175.0</td>\n",
       "      <td>6500.000000</td>\n",
       "    </tr>\n",
       "    <tr>\n",
       "      <th>2430</th>\n",
       "      <td>Sector 10, Uttara, Dhaka</td>\n",
       "      <td>14137500</td>\n",
       "      <td>3.0</td>\n",
       "      <td>5.0</td>\n",
       "      <td>2175.0</td>\n",
       "      <td>6500.000000</td>\n",
       "    </tr>\n",
       "  </tbody>\n",
       "</table>\n",
       "</div>"
      ],
      "text/plain": [
       "                             Location     Price  No. Beds  No. Baths    Area   \n",
       "426   Block E, Bashundhara R-A, Dhaka  15000000       3.0        5.0  2278.0  \\\n",
       "665    Central Road, Dhanmondi, Dhaka  40000000       4.0        6.0  3000.0   \n",
       "1032        Gulshan 1, Gulshan, Dhaka  75000000       4.0        6.0  4500.0   \n",
       "2427         Sector 10, Uttara, Dhaka  14137500       3.0        5.0  2175.0   \n",
       "2428         Sector 10, Uttara, Dhaka  14137500       3.0        5.0  2175.0   \n",
       "2429         Sector 10, Uttara, Dhaka  14137500       3.0        5.0  2175.0   \n",
       "2430         Sector 10, Uttara, Dhaka  14137500       3.0        5.0  2175.0   \n",
       "\n",
       "      Price_per_sqft  \n",
       "426      6584.723442  \n",
       "665     13333.333333  \n",
       "1032    16666.666667  \n",
       "2427     6500.000000  \n",
       "2428     6500.000000  \n",
       "2429     6500.000000  \n",
       "2430     6500.000000  "
      ]
     },
     "execution_count": 48,
     "metadata": {},
     "output_type": "execute_result"
    }
   ],
   "source": [
    "df6[df6['No. Baths']>df6['No. Beds']+1]"
   ]
  },
  {
   "cell_type": "code",
   "execution_count": 50,
   "id": "dbbb64c9",
   "metadata": {},
   "outputs": [
    {
     "data": {
      "text/plain": [
       "(2710, 6)"
      ]
     },
     "execution_count": 50,
     "metadata": {},
     "output_type": "execute_result"
    }
   ],
   "source": [
    "df6.shape"
   ]
  },
  {
   "cell_type": "code",
   "execution_count": 56,
   "id": "32960e90",
   "metadata": {},
   "outputs": [
    {
     "data": {
      "text/plain": [
       "(2703, 6)"
      ]
     },
     "execution_count": 56,
     "metadata": {},
     "output_type": "execute_result"
    }
   ],
   "source": [
    "df7 = df6[df6['No. Baths']<df6['No. Beds']+2]\n",
    "df7.shape"
   ]
  },
  {
   "cell_type": "code",
   "execution_count": 57,
   "id": "64da334d",
   "metadata": {},
   "outputs": [
    {
     "data": {
      "text/html": [
       "<div>\n",
       "<style scoped>\n",
       "    .dataframe tbody tr th:only-of-type {\n",
       "        vertical-align: middle;\n",
       "    }\n",
       "\n",
       "    .dataframe tbody tr th {\n",
       "        vertical-align: top;\n",
       "    }\n",
       "\n",
       "    .dataframe thead th {\n",
       "        text-align: right;\n",
       "    }\n",
       "</style>\n",
       "<table border=\"1\" class=\"dataframe\">\n",
       "  <thead>\n",
       "    <tr style=\"text-align: right;\">\n",
       "      <th></th>\n",
       "      <th>Location</th>\n",
       "      <th>Price</th>\n",
       "      <th>No. Beds</th>\n",
       "      <th>No. Baths</th>\n",
       "      <th>Area</th>\n",
       "    </tr>\n",
       "  </thead>\n",
       "  <tbody>\n",
       "    <tr>\n",
       "      <th>0</th>\n",
       "      <td>Adarsha Nagar, Badda, Dhaka</td>\n",
       "      <td>6000000</td>\n",
       "      <td>3.0</td>\n",
       "      <td>3.0</td>\n",
       "      <td>1500.0</td>\n",
       "    </tr>\n",
       "    <tr>\n",
       "      <th>1</th>\n",
       "      <td>Adarsha Nagar, Badda, Dhaka</td>\n",
       "      <td>6000000</td>\n",
       "      <td>3.0</td>\n",
       "      <td>3.0</td>\n",
       "      <td>1500.0</td>\n",
       "    </tr>\n",
       "    <tr>\n",
       "      <th>2</th>\n",
       "      <td>Adarsha Nagar, Badda, Dhaka</td>\n",
       "      <td>5200000</td>\n",
       "      <td>3.0</td>\n",
       "      <td>3.0</td>\n",
       "      <td>1300.0</td>\n",
       "    </tr>\n",
       "  </tbody>\n",
       "</table>\n",
       "</div>"
      ],
      "text/plain": [
       "                      Location    Price  No. Beds  No. Baths    Area\n",
       "0  Adarsha Nagar, Badda, Dhaka  6000000       3.0        3.0  1500.0\n",
       "1  Adarsha Nagar, Badda, Dhaka  6000000       3.0        3.0  1500.0\n",
       "2  Adarsha Nagar, Badda, Dhaka  5200000       3.0        3.0  1300.0"
      ]
     },
     "execution_count": 57,
     "metadata": {},
     "output_type": "execute_result"
    }
   ],
   "source": [
    "df8 = df7.drop(['Price_per_sqft'],axis='columns')\n",
    "df8.head(3)"
   ]
  },
  {
   "cell_type": "code",
   "execution_count": 58,
   "id": "28211965",
   "metadata": {},
   "outputs": [
    {
     "data": {
      "text/html": [
       "<div>\n",
       "<style scoped>\n",
       "    .dataframe tbody tr th:only-of-type {\n",
       "        vertical-align: middle;\n",
       "    }\n",
       "\n",
       "    .dataframe tbody tr th {\n",
       "        vertical-align: top;\n",
       "    }\n",
       "\n",
       "    .dataframe thead th {\n",
       "        text-align: right;\n",
       "    }\n",
       "</style>\n",
       "<table border=\"1\" class=\"dataframe\">\n",
       "  <thead>\n",
       "    <tr style=\"text-align: right;\">\n",
       "      <th></th>\n",
       "      <th>Adarsha Nagar, Badda, Dhaka</th>\n",
       "      <th>Ahmed Nagar, Mirpur, Dhaka</th>\n",
       "      <th>Asad Avenue, Mohammadpur, Dhaka</th>\n",
       "      <th>Ashi Dag Road, Ibrahimpur, Dhaka</th>\n",
       "      <th>Ashkona, Dakshin Khan, Dhaka</th>\n",
       "      <th>Ashulia, Savar, Dhaka</th>\n",
       "      <th>Ati Bazar, Keraniganj, Dhaka</th>\n",
       "      <th>Babar Road, Mohammadpur, Dhaka</th>\n",
       "      <th>Baitul Aman Housing Society, Adabor, Dhaka</th>\n",
       "      <th>Bank Colony, Savar, Dhaka</th>\n",
       "      <th>...</th>\n",
       "      <th>Wari, Sutrapur, Dhaka</th>\n",
       "      <th>West Agargaon, Agargaon, Dhaka</th>\n",
       "      <th>West Dhanmondi and Shangkar, Dhanmondi, Dhaka</th>\n",
       "      <th>West Dhanmondi, Dhanmondi, Dhaka</th>\n",
       "      <th>West Dolairpar, Shyampur, Dhaka</th>\n",
       "      <th>West Kazipara, Mirpur, Dhaka</th>\n",
       "      <th>West Monipur, Mirpur, Dhaka</th>\n",
       "      <th>West Nakhalpara, Tejgaon, Dhaka</th>\n",
       "      <th>West Rampura, Rampura, Dhaka</th>\n",
       "      <th>West Shewrapara, Mirpur, Dhaka</th>\n",
       "    </tr>\n",
       "  </thead>\n",
       "  <tbody>\n",
       "    <tr>\n",
       "      <th>0</th>\n",
       "      <td>True</td>\n",
       "      <td>False</td>\n",
       "      <td>False</td>\n",
       "      <td>False</td>\n",
       "      <td>False</td>\n",
       "      <td>False</td>\n",
       "      <td>False</td>\n",
       "      <td>False</td>\n",
       "      <td>False</td>\n",
       "      <td>False</td>\n",
       "      <td>...</td>\n",
       "      <td>False</td>\n",
       "      <td>False</td>\n",
       "      <td>False</td>\n",
       "      <td>False</td>\n",
       "      <td>False</td>\n",
       "      <td>False</td>\n",
       "      <td>False</td>\n",
       "      <td>False</td>\n",
       "      <td>False</td>\n",
       "      <td>False</td>\n",
       "    </tr>\n",
       "    <tr>\n",
       "      <th>1</th>\n",
       "      <td>True</td>\n",
       "      <td>False</td>\n",
       "      <td>False</td>\n",
       "      <td>False</td>\n",
       "      <td>False</td>\n",
       "      <td>False</td>\n",
       "      <td>False</td>\n",
       "      <td>False</td>\n",
       "      <td>False</td>\n",
       "      <td>False</td>\n",
       "      <td>...</td>\n",
       "      <td>False</td>\n",
       "      <td>False</td>\n",
       "      <td>False</td>\n",
       "      <td>False</td>\n",
       "      <td>False</td>\n",
       "      <td>False</td>\n",
       "      <td>False</td>\n",
       "      <td>False</td>\n",
       "      <td>False</td>\n",
       "      <td>False</td>\n",
       "    </tr>\n",
       "    <tr>\n",
       "      <th>2</th>\n",
       "      <td>True</td>\n",
       "      <td>False</td>\n",
       "      <td>False</td>\n",
       "      <td>False</td>\n",
       "      <td>False</td>\n",
       "      <td>False</td>\n",
       "      <td>False</td>\n",
       "      <td>False</td>\n",
       "      <td>False</td>\n",
       "      <td>False</td>\n",
       "      <td>...</td>\n",
       "      <td>False</td>\n",
       "      <td>False</td>\n",
       "      <td>False</td>\n",
       "      <td>False</td>\n",
       "      <td>False</td>\n",
       "      <td>False</td>\n",
       "      <td>False</td>\n",
       "      <td>False</td>\n",
       "      <td>False</td>\n",
       "      <td>False</td>\n",
       "    </tr>\n",
       "  </tbody>\n",
       "</table>\n",
       "<p>3 rows × 207 columns</p>\n",
       "</div>"
      ],
      "text/plain": [
       "   Adarsha Nagar, Badda, Dhaka  Ahmed Nagar, Mirpur, Dhaka   \n",
       "0                         True                       False  \\\n",
       "1                         True                       False   \n",
       "2                         True                       False   \n",
       "\n",
       "   Asad Avenue, Mohammadpur, Dhaka  Ashi Dag Road, Ibrahimpur, Dhaka   \n",
       "0                            False                             False  \\\n",
       "1                            False                             False   \n",
       "2                            False                             False   \n",
       "\n",
       "   Ashkona, Dakshin Khan, Dhaka  Ashulia, Savar, Dhaka   \n",
       "0                         False                  False  \\\n",
       "1                         False                  False   \n",
       "2                         False                  False   \n",
       "\n",
       "   Ati Bazar, Keraniganj, Dhaka  Babar Road, Mohammadpur, Dhaka   \n",
       "0                         False                           False  \\\n",
       "1                         False                           False   \n",
       "2                         False                           False   \n",
       "\n",
       "   Baitul Aman Housing Society, Adabor, Dhaka  Bank Colony, Savar, Dhaka  ...   \n",
       "0                                       False                      False  ...  \\\n",
       "1                                       False                      False  ...   \n",
       "2                                       False                      False  ...   \n",
       "\n",
       "   Wari, Sutrapur, Dhaka  West Agargaon, Agargaon, Dhaka   \n",
       "0                  False                           False  \\\n",
       "1                  False                           False   \n",
       "2                  False                           False   \n",
       "\n",
       "   West Dhanmondi and Shangkar, Dhanmondi, Dhaka   \n",
       "0                                          False  \\\n",
       "1                                          False   \n",
       "2                                          False   \n",
       "\n",
       "   West Dhanmondi, Dhanmondi, Dhaka  West Dolairpar, Shyampur, Dhaka   \n",
       "0                             False                            False  \\\n",
       "1                             False                            False   \n",
       "2                             False                            False   \n",
       "\n",
       "   West Kazipara, Mirpur, Dhaka  West Monipur, Mirpur, Dhaka   \n",
       "0                         False                        False  \\\n",
       "1                         False                        False   \n",
       "2                         False                        False   \n",
       "\n",
       "   West Nakhalpara, Tejgaon, Dhaka  West Rampura, Rampura, Dhaka   \n",
       "0                            False                         False  \\\n",
       "1                            False                         False   \n",
       "2                            False                         False   \n",
       "\n",
       "   West Shewrapara, Mirpur, Dhaka  \n",
       "0                           False  \n",
       "1                           False  \n",
       "2                           False  \n",
       "\n",
       "[3 rows x 207 columns]"
      ]
     },
     "execution_count": 58,
     "metadata": {},
     "output_type": "execute_result"
    }
   ],
   "source": [
    "dummies = pd.get_dummies(df8.Location)\n",
    "dummies.head(3)"
   ]
  },
  {
   "cell_type": "code",
   "execution_count": 59,
   "id": "0c3ecdab",
   "metadata": {},
   "outputs": [
    {
     "data": {
      "text/html": [
       "<div>\n",
       "<style scoped>\n",
       "    .dataframe tbody tr th:only-of-type {\n",
       "        vertical-align: middle;\n",
       "    }\n",
       "\n",
       "    .dataframe tbody tr th {\n",
       "        vertical-align: top;\n",
       "    }\n",
       "\n",
       "    .dataframe thead th {\n",
       "        text-align: right;\n",
       "    }\n",
       "</style>\n",
       "<table border=\"1\" class=\"dataframe\">\n",
       "  <thead>\n",
       "    <tr style=\"text-align: right;\">\n",
       "      <th></th>\n",
       "      <th>Location</th>\n",
       "      <th>Price</th>\n",
       "      <th>No. Beds</th>\n",
       "      <th>No. Baths</th>\n",
       "      <th>Area</th>\n",
       "      <th>Adarsha Nagar, Badda, Dhaka</th>\n",
       "      <th>Ahmed Nagar, Mirpur, Dhaka</th>\n",
       "      <th>Asad Avenue, Mohammadpur, Dhaka</th>\n",
       "      <th>Ashi Dag Road, Ibrahimpur, Dhaka</th>\n",
       "      <th>Ashkona, Dakshin Khan, Dhaka</th>\n",
       "      <th>...</th>\n",
       "      <th>Wari, Sutrapur, Dhaka</th>\n",
       "      <th>West Agargaon, Agargaon, Dhaka</th>\n",
       "      <th>West Dhanmondi and Shangkar, Dhanmondi, Dhaka</th>\n",
       "      <th>West Dhanmondi, Dhanmondi, Dhaka</th>\n",
       "      <th>West Dolairpar, Shyampur, Dhaka</th>\n",
       "      <th>West Kazipara, Mirpur, Dhaka</th>\n",
       "      <th>West Monipur, Mirpur, Dhaka</th>\n",
       "      <th>West Nakhalpara, Tejgaon, Dhaka</th>\n",
       "      <th>West Rampura, Rampura, Dhaka</th>\n",
       "      <th>West Shewrapara, Mirpur, Dhaka</th>\n",
       "    </tr>\n",
       "  </thead>\n",
       "  <tbody>\n",
       "    <tr>\n",
       "      <th>0</th>\n",
       "      <td>Adarsha Nagar, Badda, Dhaka</td>\n",
       "      <td>6000000</td>\n",
       "      <td>3.0</td>\n",
       "      <td>3.0</td>\n",
       "      <td>1500.0</td>\n",
       "      <td>True</td>\n",
       "      <td>False</td>\n",
       "      <td>False</td>\n",
       "      <td>False</td>\n",
       "      <td>False</td>\n",
       "      <td>...</td>\n",
       "      <td>False</td>\n",
       "      <td>False</td>\n",
       "      <td>False</td>\n",
       "      <td>False</td>\n",
       "      <td>False</td>\n",
       "      <td>False</td>\n",
       "      <td>False</td>\n",
       "      <td>False</td>\n",
       "      <td>False</td>\n",
       "      <td>False</td>\n",
       "    </tr>\n",
       "    <tr>\n",
       "      <th>1</th>\n",
       "      <td>Adarsha Nagar, Badda, Dhaka</td>\n",
       "      <td>6000000</td>\n",
       "      <td>3.0</td>\n",
       "      <td>3.0</td>\n",
       "      <td>1500.0</td>\n",
       "      <td>True</td>\n",
       "      <td>False</td>\n",
       "      <td>False</td>\n",
       "      <td>False</td>\n",
       "      <td>False</td>\n",
       "      <td>...</td>\n",
       "      <td>False</td>\n",
       "      <td>False</td>\n",
       "      <td>False</td>\n",
       "      <td>False</td>\n",
       "      <td>False</td>\n",
       "      <td>False</td>\n",
       "      <td>False</td>\n",
       "      <td>False</td>\n",
       "      <td>False</td>\n",
       "      <td>False</td>\n",
       "    </tr>\n",
       "    <tr>\n",
       "      <th>2</th>\n",
       "      <td>Adarsha Nagar, Badda, Dhaka</td>\n",
       "      <td>5200000</td>\n",
       "      <td>3.0</td>\n",
       "      <td>3.0</td>\n",
       "      <td>1300.0</td>\n",
       "      <td>True</td>\n",
       "      <td>False</td>\n",
       "      <td>False</td>\n",
       "      <td>False</td>\n",
       "      <td>False</td>\n",
       "      <td>...</td>\n",
       "      <td>False</td>\n",
       "      <td>False</td>\n",
       "      <td>False</td>\n",
       "      <td>False</td>\n",
       "      <td>False</td>\n",
       "      <td>False</td>\n",
       "      <td>False</td>\n",
       "      <td>False</td>\n",
       "      <td>False</td>\n",
       "      <td>False</td>\n",
       "    </tr>\n",
       "    <tr>\n",
       "      <th>3</th>\n",
       "      <td>Adarsha Nagar, Badda, Dhaka</td>\n",
       "      <td>5400000</td>\n",
       "      <td>3.0</td>\n",
       "      <td>3.0</td>\n",
       "      <td>1350.0</td>\n",
       "      <td>True</td>\n",
       "      <td>False</td>\n",
       "      <td>False</td>\n",
       "      <td>False</td>\n",
       "      <td>False</td>\n",
       "      <td>...</td>\n",
       "      <td>False</td>\n",
       "      <td>False</td>\n",
       "      <td>False</td>\n",
       "      <td>False</td>\n",
       "      <td>False</td>\n",
       "      <td>False</td>\n",
       "      <td>False</td>\n",
       "      <td>False</td>\n",
       "      <td>False</td>\n",
       "      <td>False</td>\n",
       "    </tr>\n",
       "    <tr>\n",
       "      <th>4</th>\n",
       "      <td>Adarsha Nagar, Badda, Dhaka</td>\n",
       "      <td>5236000</td>\n",
       "      <td>3.0</td>\n",
       "      <td>3.0</td>\n",
       "      <td>1300.0</td>\n",
       "      <td>True</td>\n",
       "      <td>False</td>\n",
       "      <td>False</td>\n",
       "      <td>False</td>\n",
       "      <td>False</td>\n",
       "      <td>...</td>\n",
       "      <td>False</td>\n",
       "      <td>False</td>\n",
       "      <td>False</td>\n",
       "      <td>False</td>\n",
       "      <td>False</td>\n",
       "      <td>False</td>\n",
       "      <td>False</td>\n",
       "      <td>False</td>\n",
       "      <td>False</td>\n",
       "      <td>False</td>\n",
       "    </tr>\n",
       "  </tbody>\n",
       "</table>\n",
       "<p>5 rows × 211 columns</p>\n",
       "</div>"
      ],
      "text/plain": [
       "                      Location    Price  No. Beds  No. Baths    Area   \n",
       "0  Adarsha Nagar, Badda, Dhaka  6000000       3.0        3.0  1500.0  \\\n",
       "1  Adarsha Nagar, Badda, Dhaka  6000000       3.0        3.0  1500.0   \n",
       "2  Adarsha Nagar, Badda, Dhaka  5200000       3.0        3.0  1300.0   \n",
       "3  Adarsha Nagar, Badda, Dhaka  5400000       3.0        3.0  1350.0   \n",
       "4  Adarsha Nagar, Badda, Dhaka  5236000       3.0        3.0  1300.0   \n",
       "\n",
       "   Adarsha Nagar, Badda, Dhaka  Ahmed Nagar, Mirpur, Dhaka   \n",
       "0                         True                       False  \\\n",
       "1                         True                       False   \n",
       "2                         True                       False   \n",
       "3                         True                       False   \n",
       "4                         True                       False   \n",
       "\n",
       "   Asad Avenue, Mohammadpur, Dhaka  Ashi Dag Road, Ibrahimpur, Dhaka   \n",
       "0                            False                             False  \\\n",
       "1                            False                             False   \n",
       "2                            False                             False   \n",
       "3                            False                             False   \n",
       "4                            False                             False   \n",
       "\n",
       "   Ashkona, Dakshin Khan, Dhaka  ...  Wari, Sutrapur, Dhaka   \n",
       "0                         False  ...                  False  \\\n",
       "1                         False  ...                  False   \n",
       "2                         False  ...                  False   \n",
       "3                         False  ...                  False   \n",
       "4                         False  ...                  False   \n",
       "\n",
       "   West Agargaon, Agargaon, Dhaka   \n",
       "0                           False  \\\n",
       "1                           False   \n",
       "2                           False   \n",
       "3                           False   \n",
       "4                           False   \n",
       "\n",
       "   West Dhanmondi and Shangkar, Dhanmondi, Dhaka   \n",
       "0                                          False  \\\n",
       "1                                          False   \n",
       "2                                          False   \n",
       "3                                          False   \n",
       "4                                          False   \n",
       "\n",
       "   West Dhanmondi, Dhanmondi, Dhaka  West Dolairpar, Shyampur, Dhaka   \n",
       "0                             False                            False  \\\n",
       "1                             False                            False   \n",
       "2                             False                            False   \n",
       "3                             False                            False   \n",
       "4                             False                            False   \n",
       "\n",
       "   West Kazipara, Mirpur, Dhaka  West Monipur, Mirpur, Dhaka   \n",
       "0                         False                        False  \\\n",
       "1                         False                        False   \n",
       "2                         False                        False   \n",
       "3                         False                        False   \n",
       "4                         False                        False   \n",
       "\n",
       "   West Nakhalpara, Tejgaon, Dhaka  West Rampura, Rampura, Dhaka   \n",
       "0                            False                         False  \\\n",
       "1                            False                         False   \n",
       "2                            False                         False   \n",
       "3                            False                         False   \n",
       "4                            False                         False   \n",
       "\n",
       "   West Shewrapara, Mirpur, Dhaka  \n",
       "0                           False  \n",
       "1                           False  \n",
       "2                           False  \n",
       "3                           False  \n",
       "4                           False  \n",
       "\n",
       "[5 rows x 211 columns]"
      ]
     },
     "execution_count": 59,
     "metadata": {},
     "output_type": "execute_result"
    }
   ],
   "source": [
    "df9 = pd.concat([df8,dummies.drop('Other',axis='columns')],axis='columns')\n",
    "df9.head()"
   ]
  },
  {
   "cell_type": "code",
   "execution_count": 60,
   "id": "52b2cf10",
   "metadata": {},
   "outputs": [
    {
     "data": {
      "text/html": [
       "<div>\n",
       "<style scoped>\n",
       "    .dataframe tbody tr th:only-of-type {\n",
       "        vertical-align: middle;\n",
       "    }\n",
       "\n",
       "    .dataframe tbody tr th {\n",
       "        vertical-align: top;\n",
       "    }\n",
       "\n",
       "    .dataframe thead th {\n",
       "        text-align: right;\n",
       "    }\n",
       "</style>\n",
       "<table border=\"1\" class=\"dataframe\">\n",
       "  <thead>\n",
       "    <tr style=\"text-align: right;\">\n",
       "      <th></th>\n",
       "      <th>Price</th>\n",
       "      <th>No. Beds</th>\n",
       "      <th>No. Baths</th>\n",
       "      <th>Area</th>\n",
       "      <th>Adarsha Nagar, Badda, Dhaka</th>\n",
       "      <th>Ahmed Nagar, Mirpur, Dhaka</th>\n",
       "      <th>Asad Avenue, Mohammadpur, Dhaka</th>\n",
       "      <th>Ashi Dag Road, Ibrahimpur, Dhaka</th>\n",
       "      <th>Ashkona, Dakshin Khan, Dhaka</th>\n",
       "      <th>Ashulia, Savar, Dhaka</th>\n",
       "      <th>...</th>\n",
       "      <th>Wari, Sutrapur, Dhaka</th>\n",
       "      <th>West Agargaon, Agargaon, Dhaka</th>\n",
       "      <th>West Dhanmondi and Shangkar, Dhanmondi, Dhaka</th>\n",
       "      <th>West Dhanmondi, Dhanmondi, Dhaka</th>\n",
       "      <th>West Dolairpar, Shyampur, Dhaka</th>\n",
       "      <th>West Kazipara, Mirpur, Dhaka</th>\n",
       "      <th>West Monipur, Mirpur, Dhaka</th>\n",
       "      <th>West Nakhalpara, Tejgaon, Dhaka</th>\n",
       "      <th>West Rampura, Rampura, Dhaka</th>\n",
       "      <th>West Shewrapara, Mirpur, Dhaka</th>\n",
       "    </tr>\n",
       "  </thead>\n",
       "  <tbody>\n",
       "    <tr>\n",
       "      <th>0</th>\n",
       "      <td>6000000</td>\n",
       "      <td>3.0</td>\n",
       "      <td>3.0</td>\n",
       "      <td>1500.0</td>\n",
       "      <td>True</td>\n",
       "      <td>False</td>\n",
       "      <td>False</td>\n",
       "      <td>False</td>\n",
       "      <td>False</td>\n",
       "      <td>False</td>\n",
       "      <td>...</td>\n",
       "      <td>False</td>\n",
       "      <td>False</td>\n",
       "      <td>False</td>\n",
       "      <td>False</td>\n",
       "      <td>False</td>\n",
       "      <td>False</td>\n",
       "      <td>False</td>\n",
       "      <td>False</td>\n",
       "      <td>False</td>\n",
       "      <td>False</td>\n",
       "    </tr>\n",
       "    <tr>\n",
       "      <th>1</th>\n",
       "      <td>6000000</td>\n",
       "      <td>3.0</td>\n",
       "      <td>3.0</td>\n",
       "      <td>1500.0</td>\n",
       "      <td>True</td>\n",
       "      <td>False</td>\n",
       "      <td>False</td>\n",
       "      <td>False</td>\n",
       "      <td>False</td>\n",
       "      <td>False</td>\n",
       "      <td>...</td>\n",
       "      <td>False</td>\n",
       "      <td>False</td>\n",
       "      <td>False</td>\n",
       "      <td>False</td>\n",
       "      <td>False</td>\n",
       "      <td>False</td>\n",
       "      <td>False</td>\n",
       "      <td>False</td>\n",
       "      <td>False</td>\n",
       "      <td>False</td>\n",
       "    </tr>\n",
       "  </tbody>\n",
       "</table>\n",
       "<p>2 rows × 210 columns</p>\n",
       "</div>"
      ],
      "text/plain": [
       "     Price  No. Beds  No. Baths    Area  Adarsha Nagar, Badda, Dhaka   \n",
       "0  6000000       3.0        3.0  1500.0                         True  \\\n",
       "1  6000000       3.0        3.0  1500.0                         True   \n",
       "\n",
       "   Ahmed Nagar, Mirpur, Dhaka  Asad Avenue, Mohammadpur, Dhaka   \n",
       "0                       False                            False  \\\n",
       "1                       False                            False   \n",
       "\n",
       "   Ashi Dag Road, Ibrahimpur, Dhaka  Ashkona, Dakshin Khan, Dhaka   \n",
       "0                             False                         False  \\\n",
       "1                             False                         False   \n",
       "\n",
       "   Ashulia, Savar, Dhaka  ...  Wari, Sutrapur, Dhaka   \n",
       "0                  False  ...                  False  \\\n",
       "1                  False  ...                  False   \n",
       "\n",
       "   West Agargaon, Agargaon, Dhaka   \n",
       "0                           False  \\\n",
       "1                           False   \n",
       "\n",
       "   West Dhanmondi and Shangkar, Dhanmondi, Dhaka   \n",
       "0                                          False  \\\n",
       "1                                          False   \n",
       "\n",
       "   West Dhanmondi, Dhanmondi, Dhaka  West Dolairpar, Shyampur, Dhaka   \n",
       "0                             False                            False  \\\n",
       "1                             False                            False   \n",
       "\n",
       "   West Kazipara, Mirpur, Dhaka  West Monipur, Mirpur, Dhaka   \n",
       "0                         False                        False  \\\n",
       "1                         False                        False   \n",
       "\n",
       "   West Nakhalpara, Tejgaon, Dhaka  West Rampura, Rampura, Dhaka   \n",
       "0                            False                         False  \\\n",
       "1                            False                         False   \n",
       "\n",
       "   West Shewrapara, Mirpur, Dhaka  \n",
       "0                           False  \n",
       "1                           False  \n",
       "\n",
       "[2 rows x 210 columns]"
      ]
     },
     "execution_count": 60,
     "metadata": {},
     "output_type": "execute_result"
    }
   ],
   "source": [
    "df10 = df9.drop('Location',axis='columns')\n",
    "df10.head(2)"
   ]
  },
  {
   "cell_type": "code",
   "execution_count": 61,
   "id": "9f99756d",
   "metadata": {},
   "outputs": [
    {
     "data": {
      "text/plain": [
       "(2703, 210)"
      ]
     },
     "execution_count": 61,
     "metadata": {},
     "output_type": "execute_result"
    }
   ],
   "source": [
    "df10.shape"
   ]
  },
  {
   "cell_type": "code",
   "execution_count": 62,
   "id": "cba6f28f",
   "metadata": {},
   "outputs": [
    {
     "data": {
      "text/html": [
       "<div>\n",
       "<style scoped>\n",
       "    .dataframe tbody tr th:only-of-type {\n",
       "        vertical-align: middle;\n",
       "    }\n",
       "\n",
       "    .dataframe tbody tr th {\n",
       "        vertical-align: top;\n",
       "    }\n",
       "\n",
       "    .dataframe thead th {\n",
       "        text-align: right;\n",
       "    }\n",
       "</style>\n",
       "<table border=\"1\" class=\"dataframe\">\n",
       "  <thead>\n",
       "    <tr style=\"text-align: right;\">\n",
       "      <th></th>\n",
       "      <th>No. Beds</th>\n",
       "      <th>No. Baths</th>\n",
       "      <th>Area</th>\n",
       "      <th>Adarsha Nagar, Badda, Dhaka</th>\n",
       "      <th>Ahmed Nagar, Mirpur, Dhaka</th>\n",
       "      <th>Asad Avenue, Mohammadpur, Dhaka</th>\n",
       "      <th>Ashi Dag Road, Ibrahimpur, Dhaka</th>\n",
       "      <th>Ashkona, Dakshin Khan, Dhaka</th>\n",
       "      <th>Ashulia, Savar, Dhaka</th>\n",
       "      <th>Ati Bazar, Keraniganj, Dhaka</th>\n",
       "      <th>...</th>\n",
       "      <th>Wari, Sutrapur, Dhaka</th>\n",
       "      <th>West Agargaon, Agargaon, Dhaka</th>\n",
       "      <th>West Dhanmondi and Shangkar, Dhanmondi, Dhaka</th>\n",
       "      <th>West Dhanmondi, Dhanmondi, Dhaka</th>\n",
       "      <th>West Dolairpar, Shyampur, Dhaka</th>\n",
       "      <th>West Kazipara, Mirpur, Dhaka</th>\n",
       "      <th>West Monipur, Mirpur, Dhaka</th>\n",
       "      <th>West Nakhalpara, Tejgaon, Dhaka</th>\n",
       "      <th>West Rampura, Rampura, Dhaka</th>\n",
       "      <th>West Shewrapara, Mirpur, Dhaka</th>\n",
       "    </tr>\n",
       "  </thead>\n",
       "  <tbody>\n",
       "    <tr>\n",
       "      <th>0</th>\n",
       "      <td>3.0</td>\n",
       "      <td>3.0</td>\n",
       "      <td>1500.0</td>\n",
       "      <td>True</td>\n",
       "      <td>False</td>\n",
       "      <td>False</td>\n",
       "      <td>False</td>\n",
       "      <td>False</td>\n",
       "      <td>False</td>\n",
       "      <td>False</td>\n",
       "      <td>...</td>\n",
       "      <td>False</td>\n",
       "      <td>False</td>\n",
       "      <td>False</td>\n",
       "      <td>False</td>\n",
       "      <td>False</td>\n",
       "      <td>False</td>\n",
       "      <td>False</td>\n",
       "      <td>False</td>\n",
       "      <td>False</td>\n",
       "      <td>False</td>\n",
       "    </tr>\n",
       "    <tr>\n",
       "      <th>1</th>\n",
       "      <td>3.0</td>\n",
       "      <td>3.0</td>\n",
       "      <td>1500.0</td>\n",
       "      <td>True</td>\n",
       "      <td>False</td>\n",
       "      <td>False</td>\n",
       "      <td>False</td>\n",
       "      <td>False</td>\n",
       "      <td>False</td>\n",
       "      <td>False</td>\n",
       "      <td>...</td>\n",
       "      <td>False</td>\n",
       "      <td>False</td>\n",
       "      <td>False</td>\n",
       "      <td>False</td>\n",
       "      <td>False</td>\n",
       "      <td>False</td>\n",
       "      <td>False</td>\n",
       "      <td>False</td>\n",
       "      <td>False</td>\n",
       "      <td>False</td>\n",
       "    </tr>\n",
       "    <tr>\n",
       "      <th>2</th>\n",
       "      <td>3.0</td>\n",
       "      <td>3.0</td>\n",
       "      <td>1300.0</td>\n",
       "      <td>True</td>\n",
       "      <td>False</td>\n",
       "      <td>False</td>\n",
       "      <td>False</td>\n",
       "      <td>False</td>\n",
       "      <td>False</td>\n",
       "      <td>False</td>\n",
       "      <td>...</td>\n",
       "      <td>False</td>\n",
       "      <td>False</td>\n",
       "      <td>False</td>\n",
       "      <td>False</td>\n",
       "      <td>False</td>\n",
       "      <td>False</td>\n",
       "      <td>False</td>\n",
       "      <td>False</td>\n",
       "      <td>False</td>\n",
       "      <td>False</td>\n",
       "    </tr>\n",
       "  </tbody>\n",
       "</table>\n",
       "<p>3 rows × 209 columns</p>\n",
       "</div>"
      ],
      "text/plain": [
       "   No. Beds  No. Baths    Area  Adarsha Nagar, Badda, Dhaka   \n",
       "0       3.0        3.0  1500.0                         True  \\\n",
       "1       3.0        3.0  1500.0                         True   \n",
       "2       3.0        3.0  1300.0                         True   \n",
       "\n",
       "   Ahmed Nagar, Mirpur, Dhaka  Asad Avenue, Mohammadpur, Dhaka   \n",
       "0                       False                            False  \\\n",
       "1                       False                            False   \n",
       "2                       False                            False   \n",
       "\n",
       "   Ashi Dag Road, Ibrahimpur, Dhaka  Ashkona, Dakshin Khan, Dhaka   \n",
       "0                             False                         False  \\\n",
       "1                             False                         False   \n",
       "2                             False                         False   \n",
       "\n",
       "   Ashulia, Savar, Dhaka  Ati Bazar, Keraniganj, Dhaka  ...   \n",
       "0                  False                         False  ...  \\\n",
       "1                  False                         False  ...   \n",
       "2                  False                         False  ...   \n",
       "\n",
       "   Wari, Sutrapur, Dhaka  West Agargaon, Agargaon, Dhaka   \n",
       "0                  False                           False  \\\n",
       "1                  False                           False   \n",
       "2                  False                           False   \n",
       "\n",
       "   West Dhanmondi and Shangkar, Dhanmondi, Dhaka   \n",
       "0                                          False  \\\n",
       "1                                          False   \n",
       "2                                          False   \n",
       "\n",
       "   West Dhanmondi, Dhanmondi, Dhaka  West Dolairpar, Shyampur, Dhaka   \n",
       "0                             False                            False  \\\n",
       "1                             False                            False   \n",
       "2                             False                            False   \n",
       "\n",
       "   West Kazipara, Mirpur, Dhaka  West Monipur, Mirpur, Dhaka   \n",
       "0                         False                        False  \\\n",
       "1                         False                        False   \n",
       "2                         False                        False   \n",
       "\n",
       "   West Nakhalpara, Tejgaon, Dhaka  West Rampura, Rampura, Dhaka   \n",
       "0                            False                         False  \\\n",
       "1                            False                         False   \n",
       "2                            False                         False   \n",
       "\n",
       "   West Shewrapara, Mirpur, Dhaka  \n",
       "0                           False  \n",
       "1                           False  \n",
       "2                           False  \n",
       "\n",
       "[3 rows x 209 columns]"
      ]
     },
     "execution_count": 62,
     "metadata": {},
     "output_type": "execute_result"
    }
   ],
   "source": [
    "X = df10.drop(['Price'],axis='columns')\n",
    "X.head(3)"
   ]
  },
  {
   "cell_type": "code",
   "execution_count": 63,
   "id": "01b516a8",
   "metadata": {},
   "outputs": [
    {
     "data": {
      "text/plain": [
       "(2703, 209)"
      ]
     },
     "execution_count": 63,
     "metadata": {},
     "output_type": "execute_result"
    }
   ],
   "source": [
    "X.shape"
   ]
  },
  {
   "cell_type": "code",
   "execution_count": 64,
   "id": "9d8a79bf",
   "metadata": {},
   "outputs": [
    {
     "data": {
      "text/plain": [
       "0    6000000\n",
       "1    6000000\n",
       "2    5200000\n",
       "Name: Price, dtype: int64"
      ]
     },
     "execution_count": 64,
     "metadata": {},
     "output_type": "execute_result"
    }
   ],
   "source": [
    "y = df10.Price\n",
    "y.head(3)"
   ]
  },
  {
   "cell_type": "code",
   "execution_count": 65,
   "id": "3bfee2d2",
   "metadata": {},
   "outputs": [
    {
     "data": {
      "text/plain": [
       "2703"
      ]
     },
     "execution_count": 65,
     "metadata": {},
     "output_type": "execute_result"
    }
   ],
   "source": [
    "len(y)"
   ]
  },
  {
   "cell_type": "code",
   "execution_count": 66,
   "id": "d0664db8",
   "metadata": {},
   "outputs": [],
   "source": [
    "from sklearn.model_selection import train_test_split\n",
    "X_train, X_test, y_train, y_test = train_test_split(X,y,test_size=0.2,random_state=10)"
   ]
  },
  {
   "cell_type": "code",
   "execution_count": 67,
   "id": "a639a27b",
   "metadata": {},
   "outputs": [
    {
     "data": {
      "text/plain": [
       "0.9335466903655963"
      ]
     },
     "execution_count": 67,
     "metadata": {},
     "output_type": "execute_result"
    }
   ],
   "source": [
    "from sklearn.linear_model import LinearRegression\n",
    "lr_clf = LinearRegression()\n",
    "lr_clf.fit(X_train,y_train)\n",
    "lr_clf.score(X_test,y_test)"
   ]
  },
  {
   "cell_type": "code",
   "execution_count": 68,
   "id": "e5de3238",
   "metadata": {},
   "outputs": [
    {
     "data": {
      "text/plain": [
       "array([ 9.29012319e-01, -1.89969385e+16,  9.33727536e-01,  9.45164250e-01,\n",
       "        9.43730230e-01])"
      ]
     },
     "execution_count": 68,
     "metadata": {},
     "output_type": "execute_result"
    }
   ],
   "source": [
    "from sklearn.model_selection import ShuffleSplit\n",
    "from sklearn.model_selection import cross_val_score\n",
    "\n",
    "cv = ShuffleSplit(n_splits=5, test_size=0.2, random_state=0)\n",
    "\n",
    "cross_val_score(LinearRegression(), X, y, cv=cv)"
   ]
  },
  {
   "cell_type": "code",
   "execution_count": 70,
   "id": "a932d5aa",
   "metadata": {},
   "outputs": [
    {
     "data": {
      "text/html": [
       "<div>\n",
       "<style scoped>\n",
       "    .dataframe tbody tr th:only-of-type {\n",
       "        vertical-align: middle;\n",
       "    }\n",
       "\n",
       "    .dataframe tbody tr th {\n",
       "        vertical-align: top;\n",
       "    }\n",
       "\n",
       "    .dataframe thead th {\n",
       "        text-align: right;\n",
       "    }\n",
       "</style>\n",
       "<table border=\"1\" class=\"dataframe\">\n",
       "  <thead>\n",
       "    <tr style=\"text-align: right;\">\n",
       "      <th></th>\n",
       "      <th>model</th>\n",
       "      <th>best_score</th>\n",
       "      <th>best_params</th>\n",
       "    </tr>\n",
       "  </thead>\n",
       "  <tbody>\n",
       "    <tr>\n",
       "      <th>0</th>\n",
       "      <td>Linear Regression</td>\n",
       "      <td>-1.967498e+12</td>\n",
       "      <td>{'copy_X': True, 'fit_intercept': True, 'n_job...</td>\n",
       "    </tr>\n",
       "  </tbody>\n",
       "</table>\n",
       "</div>"
      ],
      "text/plain": [
       "               model    best_score   \n",
       "0  Linear Regression -1.967498e+12  \\\n",
       "\n",
       "                                         best_params  \n",
       "0  {'copy_X': True, 'fit_intercept': True, 'n_job...  "
      ]
     },
     "execution_count": 70,
     "metadata": {},
     "output_type": "execute_result"
    }
   ],
   "source": [
    "from sklearn.model_selection import GridSearchCV\n",
    "from sklearn.linear_model import LinearRegression\n",
    "\n",
    "def find_best_model_using_gridsearchcv(X, y):\n",
    "    # Define the parameter grid for Linear Regression\n",
    "    param_grid = {\n",
    "        'fit_intercept': [True, False],\n",
    "        'copy_X': [True, False],\n",
    "        'n_jobs': [None, 1, 2, 4],\n",
    "    }\n",
    "\n",
    "    # Create the Linear Regression model\n",
    "    lr_model = LinearRegression()\n",
    "\n",
    "    # Create GridSearchCV object\n",
    "    gs = GridSearchCV(lr_model, param_grid, cv=5, return_train_score=False)\n",
    "\n",
    "    # Fit the model\n",
    "    gs.fit(X, y)\n",
    "\n",
    "    # Display results\n",
    "    scores = {\n",
    "        'model': 'Linear Regression',\n",
    "        'best_score': gs.best_score_,\n",
    "        'best_params': gs.best_params_\n",
    "    }\n",
    "\n",
    "    return pd.DataFrame([scores], columns=['model', 'best_score', 'best_params'])\n",
    "\n",
    "# Assuming X and y are your features and target variable\n",
    "find_best_model_using_gridsearchcv(X, y)\n"
   ]
  },
  {
   "cell_type": "code",
   "execution_count": 77,
   "id": "d3e1eea1",
   "metadata": {
    "scrolled": false
   },
   "outputs": [
    {
     "name": "stderr",
     "output_type": "stream",
     "text": [
      "/home/alzabir08/.local/lib/python3.10/site-packages/sklearn/model_selection/_validation.py:378: FitFailedWarning: \n",
      "720 fits failed out of a total of 1440.\n",
      "The score on these train-test partitions for these parameters will be set to nan.\n",
      "If these failures are not expected, you can try to debug them by setting error_score='raise'.\n",
      "\n",
      "Below are more details about the failures:\n",
      "--------------------------------------------------------------------------------\n",
      "360 fits failed with the following error:\n",
      "Traceback (most recent call last):\n",
      "  File \"/home/alzabir08/.local/lib/python3.10/site-packages/sklearn/model_selection/_validation.py\", line 686, in _fit_and_score\n",
      "    estimator.fit(X_train, y_train, **fit_params)\n",
      "  File \"/home/alzabir08/.local/lib/python3.10/site-packages/sklearn/tree/_classes.py\", line 1247, in fit\n",
      "    super().fit(\n",
      "  File \"/home/alzabir08/.local/lib/python3.10/site-packages/sklearn/tree/_classes.py\", line 177, in fit\n",
      "    self._validate_params()\n",
      "  File \"/home/alzabir08/.local/lib/python3.10/site-packages/sklearn/base.py\", line 600, in _validate_params\n",
      "    validate_parameter_constraints(\n",
      "  File \"/home/alzabir08/.local/lib/python3.10/site-packages/sklearn/utils/_param_validation.py\", line 97, in validate_parameter_constraints\n",
      "    raise InvalidParameterError(\n",
      "sklearn.utils._param_validation.InvalidParameterError: The 'criterion' parameter of DecisionTreeRegressor must be a str among {'squared_error', 'absolute_error', 'friedman_mse', 'poisson'}. Got 'mse' instead.\n",
      "\n",
      "--------------------------------------------------------------------------------\n",
      "360 fits failed with the following error:\n",
      "Traceback (most recent call last):\n",
      "  File \"/home/alzabir08/.local/lib/python3.10/site-packages/sklearn/model_selection/_validation.py\", line 686, in _fit_and_score\n",
      "    estimator.fit(X_train, y_train, **fit_params)\n",
      "  File \"/home/alzabir08/.local/lib/python3.10/site-packages/sklearn/tree/_classes.py\", line 1247, in fit\n",
      "    super().fit(\n",
      "  File \"/home/alzabir08/.local/lib/python3.10/site-packages/sklearn/tree/_classes.py\", line 177, in fit\n",
      "    self._validate_params()\n",
      "  File \"/home/alzabir08/.local/lib/python3.10/site-packages/sklearn/base.py\", line 600, in _validate_params\n",
      "    validate_parameter_constraints(\n",
      "  File \"/home/alzabir08/.local/lib/python3.10/site-packages/sklearn/utils/_param_validation.py\", line 97, in validate_parameter_constraints\n",
      "    raise InvalidParameterError(\n",
      "sklearn.utils._param_validation.InvalidParameterError: The 'criterion' parameter of DecisionTreeRegressor must be a str among {'squared_error', 'absolute_error', 'friedman_mse', 'poisson'}. Got 'mae' instead.\n",
      "\n",
      "  warnings.warn(some_fits_failed_message, FitFailedWarning)\n",
      "/home/alzabir08/.local/lib/python3.10/site-packages/sklearn/model_selection/_search.py:952: UserWarning: One or more of the test scores are non-finite: [       nan        nan        nan        nan        nan        nan\n",
      "        nan        nan        nan        nan        nan        nan\n",
      "        nan        nan        nan        nan        nan        nan\n",
      "        nan        nan        nan        nan        nan        nan\n",
      "        nan        nan        nan        nan        nan        nan\n",
      "        nan        nan        nan        nan        nan        nan\n",
      "        nan        nan        nan        nan        nan        nan\n",
      "        nan        nan        nan        nan        nan        nan\n",
      "        nan        nan        nan        nan        nan        nan\n",
      "        nan        nan        nan        nan        nan        nan\n",
      "        nan        nan        nan        nan        nan        nan\n",
      "        nan        nan        nan        nan        nan        nan\n",
      "        nan        nan        nan        nan        nan        nan\n",
      "        nan        nan        nan        nan        nan        nan\n",
      "        nan        nan        nan        nan        nan        nan\n",
      "        nan        nan        nan        nan        nan        nan\n",
      "        nan        nan        nan        nan        nan        nan\n",
      "        nan        nan        nan        nan        nan        nan\n",
      "        nan        nan        nan        nan        nan        nan\n",
      "        nan        nan        nan        nan        nan        nan\n",
      "        nan        nan        nan        nan        nan        nan\n",
      "        nan        nan        nan        nan        nan        nan\n",
      "        nan        nan        nan        nan        nan        nan\n",
      "        nan        nan        nan        nan        nan        nan\n",
      " 0.6185526  0.61291311 0.66177684 0.65598998 0.67803853 0.69453634\n",
      " 0.68099131 0.70159637 0.68921373 0.67969018 0.695317   0.71447187\n",
      " 0.70136375 0.68480714 0.70117245 0.71194521 0.70688224 0.73522088\n",
      " 0.70560676 0.71995879 0.71586804 0.67842487 0.70818511 0.73442421\n",
      " 0.72141382 0.73490565 0.7225158  0.72188657 0.72228333 0.75480115\n",
      " 0.71832681 0.72035851 0.71693406 0.69223727 0.71730335 0.67838187\n",
      " 0.68400021 0.72609841 0.71903041 0.73846178 0.70971842 0.7391686\n",
      " 0.70160337 0.73530612 0.70333869 0.72803709 0.71031141 0.70917662\n",
      " 0.70355691 0.75026504 0.70238401 0.71123817 0.70944651 0.75008573\n",
      " 0.68432952 0.68325498 0.69684334 0.72075564 0.70118232 0.74276035\n",
      " 0.6882087  0.70535376 0.69768695 0.7143897  0.70369755 0.7353003\n",
      " 0.70492655 0.69967152 0.69969781 0.70292685 0.70692333 0.69182346\n",
      " 0.63632071 0.63373874 0.68307495 0.68350151 0.6910552  0.70092044\n",
      " 0.71890742 0.67801739 0.71279226 0.7173115  0.72674853 0.6972741\n",
      " 0.67128098 0.70554713 0.67149634 0.70576804 0.67699893 0.69844677\n",
      " 0.72373997 0.69732974 0.73349524 0.7009716  0.73633844 0.6908433\n",
      " 0.75720188 0.72995209 0.75608418 0.7064605  0.7663417  0.71494554\n",
      " 0.6957295  0.73154139 0.69569868 0.66770669 0.70031866 0.72482373\n",
      " 0.71198672 0.72384425 0.72783811 0.72804063 0.7320031  0.7356834\n",
      " 0.73908778 0.73021116 0.73364079 0.73125971 0.74750877 0.71405262\n",
      " 0.67561493 0.71358042 0.67564708 0.73864512 0.68107007 0.72406133\n",
      " 0.69552983 0.66678552 0.71933517 0.71954732 0.7243213  0.73618678\n",
      " 0.72978725 0.70922687 0.7292016  0.70223534 0.73715124 0.74107366\n",
      " 0.66986537 0.6824728  0.67123015 0.6800959  0.6769481  0.69184562]\n",
      "  warnings.warn(\n"
     ]
    },
    {
     "data": {
      "text/html": [
       "<div>\n",
       "<style scoped>\n",
       "    .dataframe tbody tr th:only-of-type {\n",
       "        vertical-align: middle;\n",
       "    }\n",
       "\n",
       "    .dataframe tbody tr th {\n",
       "        vertical-align: top;\n",
       "    }\n",
       "\n",
       "    .dataframe thead th {\n",
       "        text-align: right;\n",
       "    }\n",
       "</style>\n",
       "<table border=\"1\" class=\"dataframe\">\n",
       "  <thead>\n",
       "    <tr style=\"text-align: right;\">\n",
       "      <th></th>\n",
       "      <th>model</th>\n",
       "      <th>best_score</th>\n",
       "      <th>best_params</th>\n",
       "    </tr>\n",
       "  </thead>\n",
       "  <tbody>\n",
       "    <tr>\n",
       "      <th>0</th>\n",
       "      <td>Linear Regression</td>\n",
       "      <td>0.663185</td>\n",
       "      <td>{'copy_X': True, 'fit_intercept': True, 'n_job...</td>\n",
       "    </tr>\n",
       "    <tr>\n",
       "      <th>1</th>\n",
       "      <td>Lasso Regression</td>\n",
       "      <td>0.712630</td>\n",
       "      <td>{'alpha': 2.0, 'fit_intercept': False, 'positi...</td>\n",
       "    </tr>\n",
       "    <tr>\n",
       "      <th>2</th>\n",
       "      <td>Decision Tree</td>\n",
       "      <td>0.766342</td>\n",
       "      <td>{'criterion': 'poisson', 'max_depth': 10, 'min...</td>\n",
       "    </tr>\n",
       "  </tbody>\n",
       "</table>\n",
       "</div>"
      ],
      "text/plain": [
       "               model  best_score   \n",
       "0  Linear Regression    0.663185  \\\n",
       "1   Lasso Regression    0.712630   \n",
       "2      Decision Tree    0.766342   \n",
       "\n",
       "                                         best_params  \n",
       "0  {'copy_X': True, 'fit_intercept': True, 'n_job...  \n",
       "1  {'alpha': 2.0, 'fit_intercept': False, 'positi...  \n",
       "2  {'criterion': 'poisson', 'max_depth': 10, 'min...  "
      ]
     },
     "execution_count": 77,
     "metadata": {},
     "output_type": "execute_result"
    }
   ],
   "source": [
    "from sklearn.model_selection import GridSearchCV\n",
    "from sklearn.linear_model import LinearRegression, Lasso\n",
    "from sklearn.tree import DecisionTreeRegressor\n",
    "import pandas as pd\n",
    "\n",
    "def find_best_model_using_gridsearchcv(X, y):\n",
    "    algos = {\n",
    "        'Linear Regression': {\n",
    "            'model': LinearRegression(),\n",
    "            'params': {\n",
    "                'fit_intercept': [True, False],\n",
    "                'copy_X': [True, False],\n",
    "                'n_jobs': [None, 1, 2, 4],\n",
    "                'positive': [True, False]\n",
    "            }\n",
    "        },\n",
    "        'Lasso Regression': {\n",
    "            'model': Lasso(),\n",
    "            'params': {\n",
    "                'alpha': [0.1, 0.5, 1.0, 2.0],\n",
    "                'fit_intercept': [True, False],\n",
    "                'positive': [True, False]\n",
    "            }\n",
    "        },\n",
    "        'Decision Tree': {\n",
    "            'model': DecisionTreeRegressor(),\n",
    "            'params': {\n",
    "                'criterion': ['mse', 'mae', 'friedman_mse', 'poisson'],\n",
    "                'splitter': ['best', 'random'],\n",
    "                'max_depth': [None, 10, 20, 30],\n",
    "                'min_samples_split': [2, 5, 10],\n",
    "                'min_samples_leaf': [1, 2, 4]\n",
    "            }\n",
    "        }\n",
    "    }\n",
    "\n",
    "    scores = []\n",
    "    cv = ShuffleSplit(n_splits=5, test_size=0.2, random_state=0)\n",
    "    for algo_name, config in algos.items():\n",
    "        gs = GridSearchCV(config['model'], config['params'], cv=5, return_train_score=False)\n",
    "        gs.fit(X, y)\n",
    "        scores.append({\n",
    "            'model': algo_name,\n",
    "            'best_score': gs.best_score_,\n",
    "            'best_params': gs.best_params_\n",
    "        })\n",
    "\n",
    "    return pd.DataFrame(scores, columns=['model', 'best_score', 'best_params'])\n",
    "\n",
    "# Assuming X and y are your features and target variable\n",
    "result = find_best_model_using_gridsearchcv(X, y)\n",
    "result"
   ]
  },
  {
   "cell_type": "code",
   "execution_count": 89,
   "id": "5211b602",
   "metadata": {},
   "outputs": [],
   "source": [
    "def predict_price(Location, Area, No_Baths, No_Beds):    \n",
    "    loc_index = np.where(X.columns == Location)[0][0]\n",
    "\n",
    "    x = np.zeros(len(X.columns))\n",
    "    x[0] = No_Beds\n",
    "    x[1] = No_Baths\n",
    "    x[2] = Area\n",
    "    if loc_index >= 0:\n",
    "        x[loc_index] = 1\n",
    "\n",
    "    return lr_clf.predict([x])[0]"
   ]
  },
  {
   "cell_type": "code",
   "execution_count": 91,
   "id": "7ff5909f",
   "metadata": {},
   "outputs": [
    {
     "name": "stderr",
     "output_type": "stream",
     "text": [
      "/home/alzabir08/.local/lib/python3.10/site-packages/sklearn/base.py:439: UserWarning: X does not have valid feature names, but LinearRegression was fitted with feature names\n",
      "  warnings.warn(\n"
     ]
    },
    {
     "data": {
      "text/plain": [
       "4650960.058428777"
      ]
     },
     "execution_count": 91,
     "metadata": {},
     "output_type": "execute_result"
    }
   ],
   "source": [
    "predict_price('Ashkona, Dakshin Khan, Dhaka', 1000, 3, 3)\n"
   ]
  },
  {
   "cell_type": "code",
   "execution_count": 92,
   "id": "8c60e25f",
   "metadata": {},
   "outputs": [
    {
     "name": "stderr",
     "output_type": "stream",
     "text": [
      "/home/alzabir08/.local/lib/python3.10/site-packages/sklearn/base.py:439: UserWarning: X does not have valid feature names, but LinearRegression was fitted with feature names\n",
      "  warnings.warn(\n"
     ]
    },
    {
     "data": {
      "text/plain": [
       "4484496.602441923"
      ]
     },
     "execution_count": 92,
     "metadata": {},
     "output_type": "execute_result"
    }
   ],
   "source": [
    "predict_price('West Kazipara, Mirpur, Dhaka',1000, 2, 2)"
   ]
  },
  {
   "cell_type": "code",
   "execution_count": 93,
   "id": "6a40ce7e",
   "metadata": {},
   "outputs": [
    {
     "name": "stderr",
     "output_type": "stream",
     "text": [
      "/home/alzabir08/.local/lib/python3.10/site-packages/sklearn/base.py:439: UserWarning: X does not have valid feature names, but LinearRegression was fitted with feature names\n",
      "  warnings.warn(\n"
     ]
    },
    {
     "data": {
      "text/plain": [
       "5582174.089143489"
      ]
     },
     "execution_count": 93,
     "metadata": {},
     "output_type": "execute_result"
    }
   ],
   "source": [
    "predict_price('Sector 10, Uttara, Dhaka',1000, 3, 3)"
   ]
  },
  {
   "cell_type": "code",
   "execution_count": 94,
   "id": "9002b919",
   "metadata": {},
   "outputs": [],
   "source": [
    "import pickle\n",
    "with open('Property price predictor.pickle','wb') as f:\n",
    "    pickle.dump(lr_clf,f)"
   ]
  },
  {
   "cell_type": "code",
   "execution_count": 95,
   "id": "1151825f",
   "metadata": {},
   "outputs": [],
   "source": [
    "import json\n",
    "columns = {\n",
    "    'data_columns' : [col.lower() for col in X.columns]\n",
    "}\n",
    "with open(\"columns.json\",\"w\") as f:\n",
    "    f.write(json.dumps(columns))"
   ]
  },
  {
   "cell_type": "code",
   "execution_count": null,
   "id": "86967802",
   "metadata": {},
   "outputs": [],
   "source": []
  }
 ],
 "metadata": {
  "kernelspec": {
   "display_name": "Python 3 (ipykernel)",
   "language": "python",
   "name": "python3"
  },
  "language_info": {
   "codemirror_mode": {
    "name": "ipython",
    "version": 3
   },
   "file_extension": ".py",
   "mimetype": "text/x-python",
   "name": "python",
   "nbconvert_exporter": "python",
   "pygments_lexer": "ipython3",
   "version": "3.10.12"
  }
 },
 "nbformat": 4,
 "nbformat_minor": 5
}
